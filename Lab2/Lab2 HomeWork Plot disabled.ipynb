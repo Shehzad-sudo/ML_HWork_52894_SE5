{
 "cells": [
  {
   "cell_type": "code",
   "execution_count": 4,
   "id": "a89318f5",
   "metadata": {},
   "outputs": [],
   "source": [
    "%matplotlib inline  \n",
    "import pandas as pd\n",
    "import numpy as np\n",
    "import seaborn as sns \n",
    "import matplotlib.pyplot as plt\n",
    "\n",
    "dfSales = pd.read_csv('vgSalesRating.csv')"
   ]
  },
  {
   "cell_type": "code",
   "execution_count": 5,
   "id": "bb6fdc5d",
   "metadata": {},
   "outputs": [],
   "source": [
    "dfSales = dfSales.drop(columns = ['Rating','Developer','Publisher'])\n"
   ]
  },
  {
   "cell_type": "code",
   "execution_count": 6,
   "id": "64a9ecee",
   "metadata": {},
   "outputs": [],
   "source": [
    "\n",
    "dfSales = dfSales.loc[(dfSales['Year_of_Release'] > 2010) & (dfSales['Global_Sales'] > 0.2) & (dfSales['Global_Sales'] < 15)]"
   ]
  },
  {
   "cell_type": "code",
   "execution_count": 7,
   "id": "2ce971b8",
   "metadata": {},
   "outputs": [
    {
     "data": {
      "text/plain": [
       "Name                 0\n",
       "Platform             0\n",
       "Year_of_Release      0\n",
       "Genre                0\n",
       "NA_Sales             0\n",
       "EU_Sales             0\n",
       "JP_Sales             0\n",
       "Other_Sales          0\n",
       "Global_Sales         0\n",
       "Critic_Score       488\n",
       "Critic_Count       488\n",
       "User_Score         318\n",
       "User_Count         377\n",
       "dtype: int64"
      ]
     },
     "execution_count": 7,
     "metadata": {},
     "output_type": "execute_result"
    }
   ],
   "source": [
    "dfSales.isnull().sum()"
   ]
  },
  {
   "cell_type": "code",
   "execution_count": 8,
   "id": "f4641c05",
   "metadata": {},
   "outputs": [
    {
     "data": {
      "text/plain": [
       "(1553, 13)"
      ]
     },
     "execution_count": 8,
     "metadata": {},
     "output_type": "execute_result"
    }
   ],
   "source": [
    "dfSales.shape"
   ]
  },
  {
   "cell_type": "code",
   "execution_count": 9,
   "id": "d6b4a0ce",
   "metadata": {},
   "outputs": [],
   "source": [
    "dfSales = dfSales.dropna()\n",
    "# dfSales"
   ]
  },
  {
   "cell_type": "code",
   "execution_count": 23,
   "id": "34e8dfb9",
   "metadata": {},
   "outputs": [],
   "source": [
    "sns.set(rc={'figure.figsize':(10,7)})\n",
    "# sns.displot(dfSales['EU_Sales'], bins=100)\n",
    "# plt.show()"
   ]
  },
  {
   "cell_type": "code",
   "execution_count": 11,
   "id": "fc5357ce",
   "metadata": {},
   "outputs": [],
   "source": [
    "correlation_matrix = dfSales.corr().round(2)\n",
    "# print(correlation_matrix)\n",
    "# annot = True to print the values inside the square\n",
    "# sns.heatmap(data=correlation_matrix, annot=True)"
   ]
  },
  {
   "cell_type": "code",
   "execution_count": 12,
   "id": "99d19f34",
   "metadata": {
    "scrolled": true
   },
   "outputs": [],
   "source": [
    "\n",
    "# plt.figure(figsize=(20, 5))\n",
    "\n",
    "# features = ['NA_Sales']\n",
    "# target = dfSales['EU_Sales']\n",
    "\n",
    "# for i, col in enumerate(features):\n",
    "#     plt.subplot(1, len(features) , i+1)\n",
    "#     x = dfSales[col]\n",
    "#     y = target\n",
    "#     plt.scatter(x, y, marker='o')\n",
    "#     plt.title(col)\n",
    "#     plt.xlabel(col)\n",
    "#     plt.ylabel('EU_Sales')"
   ]
  },
  {
   "cell_type": "code",
   "execution_count": 13,
   "id": "69e57270",
   "metadata": {
    "scrolled": true
   },
   "outputs": [
    {
     "name": "stdout",
     "output_type": "stream",
     "text": [
      "NA_Sales    float64\n",
      "JP_Sales    float64\n",
      "dtype: object\n",
      "float64\n"
     ]
    }
   ],
   "source": [
    "X = pd.DataFrame(np.c_[dfSales['NA_Sales'], dfSales['JP_Sales']], columns = ['NA_Sales','JP_Sales'])\n",
    "y = dfSales['EU_Sales']\n",
    "\n",
    "print(X.dtypes)\n",
    "print(y.dtypes)"
   ]
  },
  {
   "cell_type": "code",
   "execution_count": 14,
   "id": "f61c6da2",
   "metadata": {},
   "outputs": [
    {
     "name": "stdout",
     "output_type": "stream",
     "text": [
      "(948, 2)\n",
      "(106, 2)\n",
      "(948,)\n",
      "(106,)\n"
     ]
    }
   ],
   "source": [
    "\n",
    "from sklearn.model_selection import train_test_split\n",
    "\n",
    "X_train, X_test, Y_train, Y_test = train_test_split(X, y, test_size = 0.1, random_state=10)\n",
    "print(X_train.shape)\n",
    "print(X_test.shape)\n",
    "print(Y_train.shape)\n",
    "print(Y_test.shape)"
   ]
  },
  {
   "cell_type": "code",
   "execution_count": 15,
   "id": "72300616",
   "metadata": {},
   "outputs": [
    {
     "data": {
      "text/plain": [
       "LinearRegression()"
      ]
     },
     "execution_count": 15,
     "metadata": {},
     "output_type": "execute_result"
    }
   ],
   "source": [
    "from sklearn.linear_model import LinearRegression\n",
    "from sklearn.metrics import mean_squared_error\n",
    "\n",
    "lin_model = LinearRegression()\n",
    "lin_model.fit(X_train, Y_train)"
   ]
  },
  {
   "cell_type": "code",
   "execution_count": null,
   "id": "5cd63a61",
   "metadata": {},
   "outputs": [],
   "source": []
  },
  {
   "cell_type": "code",
   "execution_count": 16,
   "id": "d449d547",
   "metadata": {},
   "outputs": [
    {
     "name": "stdout",
     "output_type": "stream",
     "text": [
      "The model performance for training set\n",
      "--------------------------------------\n",
      "RMSE is 0.5141598247213789\n",
      "R2 score is 0.4859524310967287\n",
      "\n",
      "\n",
      "The model performance for testing set\n",
      "--------------------------------------\n",
      "RMSE is 0.11989447554057847\n",
      "R2 score is 0.6211347249865815\n"
     ]
    }
   ],
   "source": [
    "from sklearn.metrics import r2_score\n",
    "# model evaluation for training set\n",
    "\n",
    "y_train_predict = lin_model.predict(X_train)\n",
    "testPred = lin_model.predict(X_test)\n",
    "rmse = (np.sqrt(mean_squared_error(Y_train, y_train_predict)))\n",
    "r2 = r2_score(Y_train, y_train_predict)\n",
    "\n",
    "print(\"The model performance for training set\")\n",
    "print(\"--------------------------------------\")\n",
    "print('RMSE is {}'.format(rmse))\n",
    "print('R2 score is {}'.format(r2))\n",
    "print(\"\\n\")\n",
    "\n",
    "# model evaluation for testing set\n",
    "y_test_predict = lin_model.predict(X_test)\n",
    "rmse = (mean_squared_error(Y_test, y_test_predict))\n",
    "r2 = r2_score(Y_test, y_test_predict)\n",
    "\n",
    "print(\"The model performance for testing set\")\n",
    "print(\"--------------------------------------\")\n",
    "print('RMSE is {}'.format(rmse))\n",
    "print('R2 score is {}'.format(r2))"
   ]
  },
  {
   "cell_type": "code",
   "execution_count": 17,
   "id": "02eb6498",
   "metadata": {},
   "outputs": [
    {
     "data": {
      "text/plain": [
       "[<matplotlib.lines.Line2D at 0x1e0bcc03280>]"
      ]
     },
     "execution_count": 17,
     "metadata": {},
     "output_type": "execute_result"
    },
    {
     "data": {
      "image/png": "[encoded data removed]",
      "text/plain": [
       "<Figure size 720x504 with 1 Axes>"
      ]
     },
     "metadata": {},
     "output_type": "display_data"
    }
   ],
   "source": [
    "plt.scatter(X_train['NA_Sales'], Y_train,color='g') \n",
    "# plt.scatter(X_train['Global_Sales'], Y_train,color='b') \n",
    "plt.plot(X_test['NA_Sales'], y_test_predict,color='k') \n",
    "\n",
    "\n",
    "\n",
    "# plt.show()"
   ]
  },
  {
   "cell_type": "code",
   "execution_count": 18,
   "id": "9191b0fa",
   "metadata": {},
   "outputs": [
    {
     "data": {
      "text/plain": [
       "<matplotlib.collections.PathCollection at 0x1e0bbdd8f10>"
      ]
     },
     "execution_count": 18,
     "metadata": {},
     "output_type": "execute_result"
    },
    {
     "data": {
      "image/png": "[encoded data removed]",
      "text/plain": [
       "<Figure size 720x504 with 1 Axes>"
      ]
     },
     "metadata": {},
     "output_type": "display_data"
    }
   ],
   "source": [
    "plt.scatter(X_test['NA_Sales'],Y_test)\n",
    "plt.scatter(X_test['JP_Sales'],y_test_predict)\n",
    "# plt.show()"
   ]
  },
  {
   "cell_type": "code",
   "execution_count": 19,
   "id": "f31579f4",
   "metadata": {},
   "outputs": [
    {
     "data": {
      "text/plain": [
       "<matplotlib.collections.PathCollection at 0x1e0be142b50>"
      ]
     },
     "execution_count": 19,
     "metadata": {},
     "output_type": "execute_result"
    },
    {
     "data": {
      "image/png": "[encoded data removed]",
      "text/plain": [
       "<Figure size 720x504 with 1 Axes>"
      ]
     },
     "metadata": {},
     "output_type": "display_data"
    }
   ],
   "source": [
    "plt.scatter(X_test['NA_Sales'],Y_test)\n",
    "plt.scatter(X_test['JP_Sales'],y_test_predict)\n",
    "# plt.show()"
   ]
  },
  {
   "cell_type": "code",
   "execution_count": 20,
   "id": "ba471c14",
   "metadata": {},
   "outputs": [
    {
     "data": {
      "text/plain": [
       "<matplotlib.collections.PathCollection at 0x1e0bcfda820>"
      ]
     },
     "execution_count": 20,
     "metadata": {},
     "output_type": "execute_result"
    },
    {
     "data": {
      "image/png": "[encoded data removed]",
      "text/plain": [
       "<Figure size 720x504 with 1 Axes>"
      ]
     },
     "metadata": {},
     "output_type": "display_data"
    }
   ],
   "source": [
    "plt.scatter(X_train['NA_Sales'],Y_train)\n",
    "plt.scatter(X_train['NA_Sales'],y_train_predict)\n",
    "# plt.show()\n"
   ]
  },
  {
   "cell_type": "code",
   "execution_count": 21,
   "id": "5ecbe5d1",
   "metadata": {},
   "outputs": [],
   "source": [
    "# # Plotting a 3-D plot for visualizing the Multiple Linear Regression Model  \n",
    "  \n",
    "# # Preparing the data  \n",
    "# independent = dfSales[['JP_Sales', 'NA_Sales']].values.reshape(-1,2)  \n",
    "# dependent = dfSales['EU_Sales']  \n",
    "  \n",
    "# # Creating a variable for each dimension  \n",
    "# x = independent[:, 0]  \n",
    "# y = independent[:, 1]  \n",
    "# z = dependent  \n",
    "  \n",
    "# x_range = np.linspace(5, 10, 35)    \n",
    "# y_range = np.linspace(3, 6, 35)   \n",
    "# x1_range = np.linspace(3, 6, 35)  \n",
    "# x_range, y_range, x1_range = np.meshgrid(x_range, y_range, x1_range)  \n",
    "# viz = np.array([x_range.flatten(), y_range.flatten()]).T  \n",
    "  \n",
    "    \n",
    "# # Predicting price values using the linear regression model built above  \n",
    "# predictions = lin_model.predict(viz)  \n",
    "    \n",
    "# # Ploting the model for visualization  \n",
    "# plt.style.use('fivethirtyeight')  \n",
    "  \n",
    "# # Initializing a matplotlib figure  \n",
    "# fig = plt.figure(figsize = (15, 6))  \n",
    "  \n",
    "# axis1 = fig.add_subplot(131, projection = '3d')  \n",
    "# axis2 = fig.add_subplot(132, projection = '3d')  \n",
    "# axis3 = fig.add_subplot(133, projection = '3d')  \n",
    "  \n",
    "# axes = [axis1, axis2, axis3]  \n",
    "  \n",
    "# for ax in axes:  \n",
    "#     ax.plot(x, y, z, color='k', zorder = 10, linestyle = 'none', marker = 'o', alpha = 0.1)  \n",
    "#     ax.scatter(x_range.flatten(), y_range.flatten(), predictions, facecolor = (0,0,0,0), s = 20, edgecolor = '#70b3f0')  \n",
    "#     ax.set_xlabel('JP_Sales', fontsize = 10, labelpad = 10)  \n",
    "#     ax.set_ylabel('NA_Sales', fontsize = 10, labelpad = 10)  \n",
    "#     ax.set_zlabel('EU_Sales', fontsize = 10, labelpad = 10)  \n",
    "#     ax.locator_params(nbins = 3, axis = 'x')  \n",
    "#     ax.locator_params(nbins = 3, axis = 'x')  \n",
    "  \n",
    "# axis1.view_init(elev=25, azim=-60)  \n",
    "# axis2.view_init(elev=15, azim=15)  \n",
    "# axis3.view_init(elev=25, azim=60)  \n",
    "  \n",
    "# fig.suptitle(f'Multi-Linear Regression Model Visualization (R2 = {r2})', fontsize = 15, color = 'k')"
   ]
  }
 ],
 "metadata": {
  "kernelspec": {
   "display_name": "Python 3 (ipykernel)",
   "language": "python",
   "name": "python3"
  },
  "language_info": {
   "codemirror_mode": {
    "name": "ipython",
    "version": 3
   },
   "file_extension": ".py",
   "mimetype": "text/x-python",
   "name": "python",
   "nbconvert_exporter": "python",
   "pygments_lexer": "ipython3",
   "version": "3.9.12"
  }
 },
 "nbformat": 4,
 "nbformat_minor": 5
}
