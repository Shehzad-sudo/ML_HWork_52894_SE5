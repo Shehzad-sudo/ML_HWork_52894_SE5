{
 "cells": [
  {
   "cell_type": "code",
   "execution_count": 1,
   "id": "648a1fd6",
   "metadata": {},
   "outputs": [],
   "source": [
    "%matplotlib inline\n",
    "\n",
    "import pandas as pd\n",
    "import numpy as np\n",
    "import matplotlib.pyplot as plt\n",
    "\n"
   ]
  },
  {
   "cell_type": "code",
   "execution_count": 2,
   "id": "b0c9241c",
   "metadata": {},
   "outputs": [],
   "source": [
    "_df = pd.read_json('news_data.json', lines = True)\n",
    "df = _df.drop(_df.columns[[0,4,5]], axis = 1)"
   ]
  },
  {
   "cell_type": "code",
   "execution_count": 3,
   "id": "b4494706",
   "metadata": {},
   "outputs": [
    {
     "data": {
      "text/html": [
       "<div>\n",
       "<style scoped>\n",
       "    .dataframe tbody tr th:only-of-type {\n",
       "        vertical-align: middle;\n",
       "    }\n",
       "\n",
       "    .dataframe tbody tr th {\n",
       "        vertical-align: top;\n",
       "    }\n",
       "\n",
       "    .dataframe thead th {\n",
       "        text-align: right;\n",
       "    }\n",
       "</style>\n",
       "<table border=\"1\" class=\"dataframe\">\n",
       "  <thead>\n",
       "    <tr style=\"text-align: right;\">\n",
       "      <th></th>\n",
       "      <th>headline</th>\n",
       "      <th>category</th>\n",
       "      <th>short_description</th>\n",
       "    </tr>\n",
       "  </thead>\n",
       "  <tbody>\n",
       "    <tr>\n",
       "      <th>0</th>\n",
       "      <td>Over 4 Million Americans Roll Up Sleeves For O...</td>\n",
       "      <td>U.S. NEWS</td>\n",
       "      <td>Health experts said it is too early to predict...</td>\n",
       "    </tr>\n",
       "    <tr>\n",
       "      <th>1</th>\n",
       "      <td>American Airlines Flyer Charged, Banned For Li...</td>\n",
       "      <td>U.S. NEWS</td>\n",
       "      <td>He was subdued by passengers and crew when he ...</td>\n",
       "    </tr>\n",
       "    <tr>\n",
       "      <th>2</th>\n",
       "      <td>23 Of The Funniest Tweets About Cats And Dogs ...</td>\n",
       "      <td>COMEDY</td>\n",
       "      <td>\"Until you have a dog you don't understand wha...</td>\n",
       "    </tr>\n",
       "    <tr>\n",
       "      <th>3</th>\n",
       "      <td>The Funniest Tweets From Parents This Week (Se...</td>\n",
       "      <td>PARENTING</td>\n",
       "      <td>\"Accidentally put grown-up toothpaste on my to...</td>\n",
       "    </tr>\n",
       "    <tr>\n",
       "      <th>4</th>\n",
       "      <td>Woman Who Called Cops On Black Bird-Watcher Lo...</td>\n",
       "      <td>U.S. NEWS</td>\n",
       "      <td>Amy Cooper accused investment firm Franklin Te...</td>\n",
       "    </tr>\n",
       "    <tr>\n",
       "      <th>...</th>\n",
       "      <td>...</td>\n",
       "      <td>...</td>\n",
       "      <td>...</td>\n",
       "    </tr>\n",
       "    <tr>\n",
       "      <th>209522</th>\n",
       "      <td>RIM CEO Thorsten Heins' 'Significant' Plans Fo...</td>\n",
       "      <td>TECH</td>\n",
       "      <td>Verizon Wireless and AT&amp;T are already promotin...</td>\n",
       "    </tr>\n",
       "    <tr>\n",
       "      <th>209523</th>\n",
       "      <td>Maria Sharapova Stunned By Victoria Azarenka I...</td>\n",
       "      <td>SPORTS</td>\n",
       "      <td>Afterward, Azarenka, more effusive with the pr...</td>\n",
       "    </tr>\n",
       "    <tr>\n",
       "      <th>209524</th>\n",
       "      <td>Giants Over Patriots, Jets Over Colts Among  M...</td>\n",
       "      <td>SPORTS</td>\n",
       "      <td>Leading up to Super Bowl XLVI, the most talked...</td>\n",
       "    </tr>\n",
       "    <tr>\n",
       "      <th>209525</th>\n",
       "      <td>Aldon Smith Arrested: 49ers Linebacker Busted ...</td>\n",
       "      <td>SPORTS</td>\n",
       "      <td>CORRECTION: An earlier version of this story i...</td>\n",
       "    </tr>\n",
       "    <tr>\n",
       "      <th>209526</th>\n",
       "      <td>Dwight Howard Rips Teammates After Magic Loss ...</td>\n",
       "      <td>SPORTS</td>\n",
       "      <td>The five-time all-star center tore into his te...</td>\n",
       "    </tr>\n",
       "  </tbody>\n",
       "</table>\n",
       "<p>209527 rows × 3 columns</p>\n",
       "</div>"
      ],
      "text/plain": [
       "                                                 headline   category  \\\n",
       "0       Over 4 Million Americans Roll Up Sleeves For O...  U.S. NEWS   \n",
       "1       American Airlines Flyer Charged, Banned For Li...  U.S. NEWS   \n",
       "2       23 Of The Funniest Tweets About Cats And Dogs ...     COMEDY   \n",
       "3       The Funniest Tweets From Parents This Week (Se...  PARENTING   \n",
       "4       Woman Who Called Cops On Black Bird-Watcher Lo...  U.S. NEWS   \n",
       "...                                                   ...        ...   \n",
       "209522  RIM CEO Thorsten Heins' 'Significant' Plans Fo...       TECH   \n",
       "209523  Maria Sharapova Stunned By Victoria Azarenka I...     SPORTS   \n",
       "209524  Giants Over Patriots, Jets Over Colts Among  M...     SPORTS   \n",
       "209525  Aldon Smith Arrested: 49ers Linebacker Busted ...     SPORTS   \n",
       "209526  Dwight Howard Rips Teammates After Magic Loss ...     SPORTS   \n",
       "\n",
       "                                        short_description  \n",
       "0       Health experts said it is too early to predict...  \n",
       "1       He was subdued by passengers and crew when he ...  \n",
       "2       \"Until you have a dog you don't understand wha...  \n",
       "3       \"Accidentally put grown-up toothpaste on my to...  \n",
       "4       Amy Cooper accused investment firm Franklin Te...  \n",
       "...                                                   ...  \n",
       "209522  Verizon Wireless and AT&T are already promotin...  \n",
       "209523  Afterward, Azarenka, more effusive with the pr...  \n",
       "209524  Leading up to Super Bowl XLVI, the most talked...  \n",
       "209525  CORRECTION: An earlier version of this story i...  \n",
       "209526  The five-time all-star center tore into his te...  \n",
       "\n",
       "[209527 rows x 3 columns]"
      ]
     },
     "execution_count": 3,
     "metadata": {},
     "output_type": "execute_result"
    }
   ],
   "source": [
    "df"
   ]
  },
  {
   "cell_type": "code",
   "execution_count": 4,
   "id": "ef96be4c",
   "metadata": {},
   "outputs": [
    {
     "name": "stdout",
     "output_type": "stream",
     "text": [
      "['U.S. NEWS' 'COMEDY' 'PARENTING' 'WORLD NEWS' 'CULTURE & ARTS' 'TECH'\n",
      " 'SPORTS' 'ENTERTAINMENT' 'POLITICS' 'WEIRD NEWS' 'ENVIRONMENT'\n",
      " 'EDUCATION' 'CRIME' 'SCIENCE' 'WELLNESS' 'BUSINESS' 'STYLE & BEAUTY'\n",
      " 'FOOD & DRINK' 'MEDIA' 'QUEER VOICES' 'HOME & LIVING' 'WOMEN'\n",
      " 'BLACK VOICES' 'TRAVEL' 'MONEY' 'RELIGION' 'LATINO VOICES' 'IMPACT'\n",
      " 'WEDDINGS' 'COLLEGE' 'PARENTS' 'ARTS & CULTURE' 'STYLE' 'GREEN' 'TASTE'\n",
      " 'HEALTHY LIVING' 'THE WORLDPOST' 'GOOD NEWS' 'WORLDPOST' 'FIFTY' 'ARTS'\n",
      " 'DIVORCE']\n"
     ]
    }
   ],
   "source": [
    "target_category = df['category'].unique()\n",
    "print(target_category)"
   ]
  },
  {
   "cell_type": "code",
   "execution_count": 5,
   "id": "162c1b6b",
   "metadata": {},
   "outputs": [],
   "source": [
    "df['category'] = df['category'].astype('string')\n",
    "df['headline'] = df['headline'].astype('string')\n",
    "df['short_description'] = df['short_description'].astype('string')"
   ]
  },
  {
   "cell_type": "code",
   "execution_count": 6,
   "id": "9f0a5b0c",
   "metadata": {},
   "outputs": [
    {
     "data": {
      "text/plain": [
       "<IntegerArray>\n",
       "[35602, 17945, 17362,  9900,  9814,  8791,  6694,  6347,  6340,  5992,  5400,\n",
       "  5077,  4583,  4320,  3955,  3664,  3653,  3572,  3562,  3484,  3426,  3299,\n",
       "  2944,  2777,  2622,  2579,  2577,  2254,  2206,  2104,  2096,  1756,  1509,\n",
       "  1444,  1401,  1398,  1377,  1339,  1144,  1130,  1074,  1014]\n",
       "Length: 42, dtype: Int64"
      ]
     },
     "execution_count": 6,
     "metadata": {},
     "output_type": "execute_result"
    }
   ],
   "source": [
    "df['category'].iloc[0:5]\n",
    "df['category'].value_counts().unique()"
   ]
  },
  {
   "cell_type": "code",
   "execution_count": 7,
   "id": "cc170bf9",
   "metadata": {},
   "outputs": [],
   "source": [
    "df['headline'] = df['headline'].str.lower()\n",
    "df['category'] = df['category'].str.lower()\n",
    "df['short_description'] = df['short_description'].str.lower()\n",
    "\n",
    "# df['category'] = df['category'].str.split(',') \n",
    "# df\n"
   ]
  },
  {
   "cell_type": "code",
   "execution_count": 8,
   "id": "eec1bf66",
   "metadata": {},
   "outputs": [
    {
     "data": {
      "text/plain": [
       "<StringArray>\n",
       "[     'u.s. news',         'comedy',        'parents',      'worldpost',\n",
       " 'culture & arts',           'tech',         'sports',  'entertainment',\n",
       "       'politics',     'weird news',    'environment',      'education',\n",
       "          'crime',        'science', 'healthy living',       'business',\n",
       " 'style & beauty',   'food & drink',          'media',   'queer voices',\n",
       "  'home & living',          'women',   'black voices',         'travel',\n",
       "          'money',       'religion',  'latino voices',         'impact',\n",
       "       'weddings',        'college',          'style',          'green',\n",
       "  'the worldpost',      'good news',          'fifty',        'divorce']\n",
       "Length: 36, dtype: string"
      ]
     },
     "execution_count": 8,
     "metadata": {},
     "output_type": "execute_result"
    }
   ],
   "source": [
    "for index, row in df.iterrows():\n",
    "    i = df['category'].at[index]\n",
    "    \n",
    "    if(i == \"world news\"):\n",
    "        df['category'].at[index] = \"worldpost\" \n",
    "        \n",
    " \n",
    "    if( i==\"arts\" or i == \"arts & culture\"):\n",
    "        df['category'].at[index] = \"culture & arts\"\n",
    "        \n",
    "    if( i==\"wellness\"):\n",
    "        df['category'].at[index] = \"healthy living\"\n",
    "    \n",
    "    if( i==\"taste\"):\n",
    "        df['category'].at[index] = \"food & drink\"\n",
    "   \n",
    "    if( i==\"parenting\"):\n",
    "        df['category'].at[index] = \"parents\"\n",
    "   \n",
    "\n",
    "\n",
    "    \n",
    "# check that the species were converted correctly\n",
    "df['category'].unique()"
   ]
  },
  {
   "cell_type": "code",
   "execution_count": 10,
   "id": "348ecacb",
   "metadata": {},
   "outputs": [
    {
     "data": {
      "text/html": [
       "<div>\n",
       "<style scoped>\n",
       "    .dataframe tbody tr th:only-of-type {\n",
       "        vertical-align: middle;\n",
       "    }\n",
       "\n",
       "    .dataframe tbody tr th {\n",
       "        vertical-align: top;\n",
       "    }\n",
       "\n",
       "    .dataframe thead th {\n",
       "        text-align: right;\n",
       "    }\n",
       "</style>\n",
       "<table border=\"1\" class=\"dataframe\">\n",
       "  <thead>\n",
       "    <tr style=\"text-align: right;\">\n",
       "      <th></th>\n",
       "      <th>headline</th>\n",
       "      <th>category</th>\n",
       "      <th>short_description</th>\n",
       "    </tr>\n",
       "  </thead>\n",
       "  <tbody>\n",
       "    <tr>\n",
       "      <th>0</th>\n",
       "      <td>over 4 million americans roll up sleeves for o...</td>\n",
       "      <td>u.s. news</td>\n",
       "      <td>health experts said it is too early to predict...</td>\n",
       "    </tr>\n",
       "    <tr>\n",
       "      <th>1</th>\n",
       "      <td>american airlines flyer charged, banned for li...</td>\n",
       "      <td>u.s. news</td>\n",
       "      <td>he was subdued by passengers and crew when he ...</td>\n",
       "    </tr>\n",
       "    <tr>\n",
       "      <th>2</th>\n",
       "      <td>23 of the funniest tweets about cats and dogs ...</td>\n",
       "      <td>comedy</td>\n",
       "      <td>\"until you have a dog you don't understand wha...</td>\n",
       "    </tr>\n",
       "    <tr>\n",
       "      <th>3</th>\n",
       "      <td>the funniest tweets from parents this week (se...</td>\n",
       "      <td>parents</td>\n",
       "      <td>\"accidentally put grown-up toothpaste on my to...</td>\n",
       "    </tr>\n",
       "    <tr>\n",
       "      <th>4</th>\n",
       "      <td>woman who called cops on black bird-watcher lo...</td>\n",
       "      <td>u.s. news</td>\n",
       "      <td>amy cooper accused investment firm franklin te...</td>\n",
       "    </tr>\n",
       "    <tr>\n",
       "      <th>...</th>\n",
       "      <td>...</td>\n",
       "      <td>...</td>\n",
       "      <td>...</td>\n",
       "    </tr>\n",
       "    <tr>\n",
       "      <th>209522</th>\n",
       "      <td>rim ceo thorsten heins' 'significant' plans fo...</td>\n",
       "      <td>tech</td>\n",
       "      <td>verizon wireless and at&amp;t are already promotin...</td>\n",
       "    </tr>\n",
       "    <tr>\n",
       "      <th>209523</th>\n",
       "      <td>maria sharapova stunned by victoria azarenka i...</td>\n",
       "      <td>sports</td>\n",
       "      <td>afterward, azarenka, more effusive with the pr...</td>\n",
       "    </tr>\n",
       "    <tr>\n",
       "      <th>209524</th>\n",
       "      <td>giants over patriots, jets over colts among  m...</td>\n",
       "      <td>sports</td>\n",
       "      <td>leading up to super bowl xlvi, the most talked...</td>\n",
       "    </tr>\n",
       "    <tr>\n",
       "      <th>209525</th>\n",
       "      <td>aldon smith arrested: 49ers linebacker busted ...</td>\n",
       "      <td>sports</td>\n",
       "      <td>correction: an earlier version of this story i...</td>\n",
       "    </tr>\n",
       "    <tr>\n",
       "      <th>209526</th>\n",
       "      <td>dwight howard rips teammates after magic loss ...</td>\n",
       "      <td>sports</td>\n",
       "      <td>the five-time all-star center tore into his te...</td>\n",
       "    </tr>\n",
       "  </tbody>\n",
       "</table>\n",
       "<p>209527 rows × 3 columns</p>\n",
       "</div>"
      ],
      "text/plain": [
       "                                                 headline   category  \\\n",
       "0       over 4 million americans roll up sleeves for o...  u.s. news   \n",
       "1       american airlines flyer charged, banned for li...  u.s. news   \n",
       "2       23 of the funniest tweets about cats and dogs ...     comedy   \n",
       "3       the funniest tweets from parents this week (se...    parents   \n",
       "4       woman who called cops on black bird-watcher lo...  u.s. news   \n",
       "...                                                   ...        ...   \n",
       "209522  rim ceo thorsten heins' 'significant' plans fo...       tech   \n",
       "209523  maria sharapova stunned by victoria azarenka i...     sports   \n",
       "209524  giants over patriots, jets over colts among  m...     sports   \n",
       "209525  aldon smith arrested: 49ers linebacker busted ...     sports   \n",
       "209526  dwight howard rips teammates after magic loss ...     sports   \n",
       "\n",
       "                                        short_description  \n",
       "0       health experts said it is too early to predict...  \n",
       "1       he was subdued by passengers and crew when he ...  \n",
       "2       \"until you have a dog you don't understand wha...  \n",
       "3       \"accidentally put grown-up toothpaste on my to...  \n",
       "4       amy cooper accused investment firm franklin te...  \n",
       "...                                                   ...  \n",
       "209522  verizon wireless and at&t are already promotin...  \n",
       "209523  afterward, azarenka, more effusive with the pr...  \n",
       "209524  leading up to super bowl xlvi, the most talked...  \n",
       "209525  correction: an earlier version of this story i...  \n",
       "209526  the five-time all-star center tore into his te...  \n",
       "\n",
       "[209527 rows x 3 columns]"
      ]
     },
     "execution_count": 10,
     "metadata": {},
     "output_type": "execute_result"
    }
   ],
   "source": [
    "# df['categoryId'] = df['category'].factorize()[0]\n",
    "# df.head()\n",
    "df"
   ]
  },
  {
   "cell_type": "code",
   "execution_count": 33,
   "id": "fd6a5e0e",
   "metadata": {},
   "outputs": [],
   "source": [
    "import nltk\n",
    "# nltk.download('stopwords')\n",
    "# nltk.download('punkt')\n",
    "from nltk.corpus import stopwords\n",
    "from nltk.tokenize import word_tokenize\n",
    "# from nltk.tokenize import sent_tokenize\n",
    "# print(stopwords.words('english'))\n",
    "\n",
    "def remove_stopword(text):\n",
    "    stop_word = set(stopwords.words('english'))\n",
    "#     words = word_tokenize(text)\n",
    "    return  \" \".join([x for x in text.split() if x not in stop_word])\n",
    "\n",
    "\n",
    "df['short_description'] = df['short_description'].apply(remove_stopword)\n",
    "df['category'] = df['category'].apply(remove_stopword)\n",
    "\n",
    "# df['short_description']\n",
    "\n",
    "\n"
   ]
  },
  {
   "cell_type": "code",
   "execution_count": 34,
   "id": "ed5494f6",
   "metadata": {},
   "outputs": [
    {
     "data": {
      "text/html": [
       "<div>\n",
       "<style scoped>\n",
       "    .dataframe tbody tr th:only-of-type {\n",
       "        vertical-align: middle;\n",
       "    }\n",
       "\n",
       "    .dataframe tbody tr th {\n",
       "        vertical-align: top;\n",
       "    }\n",
       "\n",
       "    .dataframe thead th {\n",
       "        text-align: right;\n",
       "    }\n",
       "</style>\n",
       "<table border=\"1\" class=\"dataframe\">\n",
       "  <thead>\n",
       "    <tr style=\"text-align: right;\">\n",
       "      <th></th>\n",
       "      <th>headline</th>\n",
       "      <th>category</th>\n",
       "      <th>short_description</th>\n",
       "    </tr>\n",
       "  </thead>\n",
       "  <tbody>\n",
       "    <tr>\n",
       "      <th>0</th>\n",
       "      <td>over 4 million americans roll up sleeves for o...</td>\n",
       "      <td>u.s. news</td>\n",
       "      <td>health experts said early predict whether dema...</td>\n",
       "    </tr>\n",
       "    <tr>\n",
       "      <th>1</th>\n",
       "      <td>american airlines flyer charged banned for lif...</td>\n",
       "      <td>u.s. news</td>\n",
       "      <td>subdued passengers crew fled back aircraft con...</td>\n",
       "    </tr>\n",
       "    <tr>\n",
       "      <th>2</th>\n",
       "      <td>23 of the funniest tweets about cats and dogs ...</td>\n",
       "      <td>comedy</td>\n",
       "      <td>\"until dog understand could eaten.\"</td>\n",
       "    </tr>\n",
       "    <tr>\n",
       "      <th>3</th>\n",
       "      <td>the funniest tweets from parents this week sep...</td>\n",
       "      <td>parents</td>\n",
       "      <td>\"accidentally put grown-up toothpaste toddler’...</td>\n",
       "    </tr>\n",
       "    <tr>\n",
       "      <th>4</th>\n",
       "      <td>woman who called cops on black birdwatcher los...</td>\n",
       "      <td>u.s. news</td>\n",
       "      <td>amy cooper accused investment firm franklin te...</td>\n",
       "    </tr>\n",
       "    <tr>\n",
       "      <th>...</th>\n",
       "      <td>...</td>\n",
       "      <td>...</td>\n",
       "      <td>...</td>\n",
       "    </tr>\n",
       "    <tr>\n",
       "      <th>209522</th>\n",
       "      <td>rim ceo thorsten heins significant plans for b...</td>\n",
       "      <td>tech</td>\n",
       "      <td>verizon wireless at&amp;t already promoting lte de...</td>\n",
       "    </tr>\n",
       "    <tr>\n",
       "      <th>209523</th>\n",
       "      <td>maria sharapova stunned by victoria azarenka i...</td>\n",
       "      <td>sports</td>\n",
       "      <td>afterward, azarenka, effusive press normal, cr...</td>\n",
       "    </tr>\n",
       "    <tr>\n",
       "      <th>209524</th>\n",
       "      <td>giants over patriots jets over colts among  mo...</td>\n",
       "      <td>sports</td>\n",
       "      <td>leading super bowl xlvi, talked game could end...</td>\n",
       "    </tr>\n",
       "    <tr>\n",
       "      <th>209525</th>\n",
       "      <td>aldon smith arrested 49ers linebacker busted f...</td>\n",
       "      <td>sports</td>\n",
       "      <td>correction: earlier version story incorrectly ...</td>\n",
       "    </tr>\n",
       "    <tr>\n",
       "      <th>209526</th>\n",
       "      <td>dwight howard rips teammates after magic loss ...</td>\n",
       "      <td>sports</td>\n",
       "      <td>five-time all-star center tore teammates frida...</td>\n",
       "    </tr>\n",
       "  </tbody>\n",
       "</table>\n",
       "<p>209527 rows × 3 columns</p>\n",
       "</div>"
      ],
      "text/plain": [
       "                                                 headline   category  \\\n",
       "0       over 4 million americans roll up sleeves for o...  u.s. news   \n",
       "1       american airlines flyer charged banned for lif...  u.s. news   \n",
       "2       23 of the funniest tweets about cats and dogs ...     comedy   \n",
       "3       the funniest tweets from parents this week sep...    parents   \n",
       "4       woman who called cops on black birdwatcher los...  u.s. news   \n",
       "...                                                   ...        ...   \n",
       "209522  rim ceo thorsten heins significant plans for b...       tech   \n",
       "209523  maria sharapova stunned by victoria azarenka i...     sports   \n",
       "209524  giants over patriots jets over colts among  mo...     sports   \n",
       "209525  aldon smith arrested 49ers linebacker busted f...     sports   \n",
       "209526  dwight howard rips teammates after magic loss ...     sports   \n",
       "\n",
       "                                        short_description  \n",
       "0       health experts said early predict whether dema...  \n",
       "1       subdued passengers crew fled back aircraft con...  \n",
       "2                     \"until dog understand could eaten.\"  \n",
       "3       \"accidentally put grown-up toothpaste toddler’...  \n",
       "4       amy cooper accused investment firm franklin te...  \n",
       "...                                                   ...  \n",
       "209522  verizon wireless at&t already promoting lte de...  \n",
       "209523  afterward, azarenka, effusive press normal, cr...  \n",
       "209524  leading super bowl xlvi, talked game could end...  \n",
       "209525  correction: earlier version story incorrectly ...  \n",
       "209526  five-time all-star center tore teammates frida...  \n",
       "\n",
       "[209527 rows x 3 columns]"
      ]
     },
     "execution_count": 34,
     "metadata": {},
     "output_type": "execute_result"
    }
   ],
   "source": [
    "df"
   ]
  },
  {
   "cell_type": "code",
   "execution_count": 15,
   "id": "cf43821c",
   "metadata": {},
   "outputs": [],
   "source": [
    "def special_char(text):\n",
    "    reviews = ''\n",
    "    \n",
    "    for x in text:\n",
    "        if(x == \" \"):\n",
    "            reviews += \" \"\n",
    "            \n",
    "        elif(x.isalnum()):\n",
    "            reviews += x\n",
    "            \n",
    "\n",
    "    return reviews\n",
    "\n",
    "df['headline'] = df['headline'].apply(special_char)"
   ]
  },
  {
   "cell_type": "code",
   "execution_count": 41,
   "id": "cf9c940e",
   "metadata": {},
   "outputs": [
    {
     "data": {
      "text/plain": [
       "TfidfVectorizer(lowercase=False)"
      ]
     },
     "execution_count": 41,
     "metadata": {},
     "output_type": "execute_result"
    }
   ],
   "source": [
    "from sklearn.feature_extraction.text import CountVectorizer\n",
    "from sklearn.feature_extraction.text import TfidfVectorizer\n",
    "\n",
    "\n",
    "# vec = CountVectorizer(min_df=1, lowercase=False)\n",
    "# vec.fit_transform(df['headline'])\n",
    "\n",
    "vec = TfidfVectorizer(min_df=1, lowercase=False)\n",
    "# vec  = MultiLabelBinarizer()\n",
    "vec.fit(df['headline'])"
   ]
  },
  {
   "cell_type": "code",
   "execution_count": 42,
   "id": "b7c94dc9",
   "metadata": {},
   "outputs": [],
   "source": [
    "# vec.get_feature_names_out()\n",
    "# vec.vocabulary_"
   ]
  },
  {
   "cell_type": "code",
   "execution_count": 43,
   "id": "f4f823ee",
   "metadata": {},
   "outputs": [
    {
     "name": "stdout",
     "output_type": "stream",
     "text": [
      "LabelEncode\n",
      "[30 30  3 ... 25 25 25]\n",
      "To_Categorical\n",
      "[[0. 0. 0. ... 0. 0. 0.]\n",
      " [0. 0. 0. ... 0. 0. 0.]\n",
      " [0. 0. 0. ... 0. 0. 0.]\n",
      " ...\n",
      " [0. 0. 0. ... 0. 0. 0.]\n",
      " [0. 0. 0. ... 0. 0. 0.]\n",
      " [0. 0. 0. ... 0. 0. 0.]]\n"
     ]
    }
   ],
   "source": [
    "from sklearn.preprocessing import LabelEncoder\n",
    "from keras.utils import to_categorical\n",
    "\n",
    "le = LabelEncoder()\n",
    "labelEncode = le.fit_transform(df[\"category\"])\n",
    "print(\"LabelEncode\")\n",
    "print(labelEncode)\n",
    "categorical_y = to_categorical(labelEncode)\n",
    "print(\"To_Categorical\")\n",
    "print(categorical_y)"
   ]
  },
  {
   "cell_type": "code",
   "execution_count": 44,
   "id": "0399ec18",
   "metadata": {},
   "outputs": [],
   "source": [
    "# he \n",
    "# arr = vec.transform(df['category'].iloc[45:433]).toarray()[0]\n",
    "\n",
    "# unique_elements, counts_elements = np.unique(arr, return_counts=True)\n",
    "# print(\"Frequency of unique values of the said array:\")\n",
    "# print(np.asarray((unique_elements, counts_elements)))\n"
   ]
  },
  {
   "cell_type": "code",
   "execution_count": 45,
   "id": "68a3c353",
   "metadata": {},
   "outputs": [],
   "source": [
    "from sklearn.model_selection import train_test_split\n",
    "\n",
    "x = vec.fit_transform(df['headline'])\n",
    "x.sort_indices()\n",
    "y=  df['category']\n",
    "x_train, x_test, y_train, y_test = train_test_split(x, categorical_y, test_size = 0.1, random_state = 2, stratify = categorical_y)\n",
    "# print(len(x_train))\n",
    "# print(len(x_test))"
   ]
  },
  {
   "cell_type": "code",
   "execution_count": 46,
   "id": "cc49e190",
   "metadata": {},
   "outputs": [],
   "source": [
    "from keras.models import Sequential\n",
    "from keras.layers import Dense, Dropout\n",
    "from keras.optimizers import Adam\n",
    "from keras.utils import plot_model\n",
    "from keras.losses import categorical_crossentropy\n",
    "\n",
    "def build_ann_model():\n",
    "    model = Sequential()\n",
    "    \n",
    "    model.add(Dense(units=y_test.shape[1],activation=\"relu\",input_dim=x_train.shape[1]))\n",
    "    model.add(Dense(units=y_test.shape[1],activation=\"softmax\"))\n",
    "    \n",
    "    optimizer = Adam(learning_rate=0.003)\n",
    "    \n",
    "    model.compile(optimizer=optimizer,metrics=[\"accuracy\"],loss=categorical_crossentropy)\n",
    "    return model"
   ]
  },
  {
   "cell_type": "code",
   "execution_count": 47,
   "id": "7cefb620",
   "metadata": {},
   "outputs": [
    {
     "data": {
      "image/png": "[encoded data removed]",
      "text/plain": [
       "<IPython.core.display.Image object>"
      ]
     },
     "execution_count": 47,
     "metadata": {},
     "output_type": "execute_result"
    }
   ],
   "source": [
    "ann_model = build_ann_model()\n",
    "plot_model(ann_model,show_shapes=True)"
   ]
  },
  {
   "cell_type": "code",
   "execution_count": 48,
   "id": "e5b758cb",
   "metadata": {
    "scrolled": true
   },
   "outputs": [
    {
     "name": "stdout",
     "output_type": "stream",
     "text": [
      "Epoch 1/2\n"
     ]
    },
    {
     "name": "stderr",
     "output_type": "stream",
     "text": [
      "C:\\Users\\ALI\\AppData\\Roaming\\Python\\Python39\\site-packages\\tensorflow\\python\\framework\\indexed_slices.py:444: UserWarning: Converting sparse IndexedSlices(IndexedSlices(indices=Tensor(\"gradient_tape/sequential_3/dense_6/embedding_lookup_sparse/Reshape_1:0\", shape=(None,), dtype=int32), values=Tensor(\"gradient_tape/sequential_3/dense_6/embedding_lookup_sparse/Reshape:0\", shape=(None, 35), dtype=float32), dense_shape=Tensor(\"gradient_tape/sequential_3/dense_6/embedding_lookup_sparse/Cast:0\", shape=(2,), dtype=int32))) to a dense Tensor of unknown shape. This may consume a large amount of memory.\n",
      "  warnings.warn(\n"
     ]
    },
    {
     "name": "stdout",
     "output_type": "stream",
     "text": [
      "737/737 [==============================] - 19s 24ms/step - loss: 1.9106 - accuracy: 0.5202 - val_loss: 1.3957 - val_accuracy: 0.6305\n",
      "Epoch 2/2\n",
      "737/737 [==============================] - 22s 30ms/step - loss: 1.0366 - accuracy: 0.7156 - val_loss: 1.3121 - val_accuracy: 0.6454\n"
     ]
    }
   ],
   "source": [
    "ann_history = ann_model.fit(x_train,y_train,epochs=2,batch_size=256,validation_data = [x_test,y_test])\n",
    "# ypred = ann_model.predict(x_test)"
   ]
  },
  {
   "cell_type": "code",
   "execution_count": 49,
   "id": "39f58b8d",
   "metadata": {},
   "outputs": [
    {
     "name": "stdout",
     "output_type": "stream",
     "text": [
      "655/655 [==============================] - 1s 1ms/step\n",
      "5893/5893 [==============================] - 7s 1ms/step\n"
     ]
    }
   ],
   "source": [
    "y_pred_test = ann_model.predict(x_test)\n",
    "y_pred_train = ann_model.predict(x_train)"
   ]
  },
  {
   "cell_type": "code",
   "execution_count": 50,
   "id": "6f3b3945",
   "metadata": {},
   "outputs": [
    {
     "name": "stdout",
     "output_type": "stream",
     "text": [
      "Training Evaluation\n",
      "Weighted F1-Score:  0.8092275715138407\n",
      "Micro F1-Score:  0.8160881139499613\n",
      "--------------------\n",
      "Weighted F1-Score:  0.6321657395225715\n",
      "Micro F1-Score:  0.6453968405478929\n"
     ]
    }
   ],
   "source": [
    "from sklearn.metrics import precision_score, recall_score, f1_score, accuracy_score\n",
    "\n",
    "y_pred_test = cont_to_bin(y_pred_test)\n",
    "y_pred_train = cont_to_bin(y_pred_train)\n",
    "\n",
    "\n",
    "score_f1_test = f1_score(y_test, y_pred_test,average = 'weighted')\n",
    "score_f1_train = f1_score(y_train, y_pred_train,average = 'weighted')\n",
    "\n",
    "score_f1_test_micro = f1_score(y_test, y_pred_test,average = 'micro')\n",
    "score_f1_train_micro = f1_score(y_train, y_pred_train,average = 'micro')\n",
    "\n",
    "\n",
    "print(\"Training Evaluation\")\n",
    "print(\"Weighted F1-Score: \", score_f1_train)\n",
    "print(\"Micro F1-Score: \", score_f1_train_micro)\n",
    "\n",
    "\n",
    "print('-' * 20)\n",
    "\n",
    "print(\"Weighted F1-Score: \", score_f1_test)\n",
    "print(\"Micro F1-Score: \", score_f1_test_micro)\n"
   ]
  },
  {
   "cell_type": "code",
   "execution_count": 272,
   "id": "8d9525e4",
   "metadata": {},
   "outputs": [
    {
     "name": "stdout",
     "output_type": "stream",
     "text": [
      "INFO:tensorflow:Assets written to: model1/ann1\\assets\n"
     ]
    }
   ],
   "source": [
    "ann_model.save(\"model/ann3\")"
   ]
  },
  {
   "cell_type": "code",
   "execution_count": 24,
   "id": "747aca13",
   "metadata": {},
   "outputs": [],
   "source": [
    "from tensorflow.keras.models import load_model\n",
    "ann_model_2 = load_model(\"model/ann3\")"
   ]
  },
  {
   "cell_type": "code",
   "execution_count": 24,
   "id": "c09dddd6",
   "metadata": {},
   "outputs": [],
   "source": [
    "def cont_to_bin(_2darr):\n",
    "    #make an 2d array\n",
    "    final2d = np.empty(_2darr.shape,dtype = int)\n",
    "    \n",
    "    #iterate over each row\n",
    "    for i in range(0,_2darr.shape[0]):\n",
    "        #find greatest element\n",
    "        row = _2darr[i]\n",
    "        index = row.argmax()\n",
    "        \n",
    "        #make an array\n",
    "        temp = np.zeros( row.size )\n",
    "        temp[index] = 1\n",
    "        final2d[i] = temp\n",
    "        \n",
    "    return final2d\n",
    "\n",
    "# bin_classif = cont_to_bin(ypred_2)\n",
    "# np.apply_along_axis(function, 1, array)\n"
   ]
  },
  {
   "cell_type": "code",
   "execution_count": null,
   "id": "69a4aa08",
   "metadata": {},
   "outputs": [],
   "source": []
  },
  {
   "cell_type": "code",
   "execution_count": 42,
   "id": "3f52921d",
   "metadata": {},
   "outputs": [],
   "source": []
  },
  {
   "cell_type": "code",
   "execution_count": null,
   "id": "ade24f15",
   "metadata": {},
   "outputs": [],
   "source": []
  },
  {
   "cell_type": "code",
   "execution_count": null,
   "id": "f40fb711",
   "metadata": {},
   "outputs": [],
   "source": []
  },
  {
   "cell_type": "code",
   "execution_count": null,
   "id": "5d92c8bd",
   "metadata": {},
   "outputs": [],
   "source": []
  },
  {
   "cell_type": "code",
   "execution_count": null,
   "id": "a7b9e539",
   "metadata": {},
   "outputs": [],
   "source": []
  }
 ],
 "metadata": {
  "kernelspec": {
   "display_name": "Python 3 (ipykernel)",
   "language": "python",
   "name": "python3"
  },
  "language_info": {
   "codemirror_mode": {
    "name": "ipython",
    "version": 3
   },
   "file_extension": ".py",
   "mimetype": "text/x-python",
   "name": "python",
   "nbconvert_exporter": "python",
   "pygments_lexer": "ipython3",
   "version": "3.9.12"
  }
 },
 "nbformat": 4,
 "nbformat_minor": 5
}
