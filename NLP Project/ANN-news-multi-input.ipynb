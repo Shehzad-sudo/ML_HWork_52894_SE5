{
 "cells": [
  {
   "cell_type": "code",
   "execution_count": 1,
   "id": "648a1fd6",
   "metadata": {},
   "outputs": [],
   "source": [
    "%matplotlib inline\n",
    "\n",
    "import pandas as pd\n",
    "import numpy as np\n",
    "import matplotlib.pyplot as plt\n",
    "\n"
   ]
  },
  {
   "cell_type": "code",
   "execution_count": 2,
   "id": "b0c9241c",
   "metadata": {},
   "outputs": [],
   "source": [
    "_df = pd.read_json('news_data.json', lines = True)\n",
    "df = _df.drop(_df.columns[[0,4,5]], axis = 1)"
   ]
  },
  {
   "cell_type": "code",
   "execution_count": 3,
   "id": "b4494706",
   "metadata": {},
   "outputs": [
    {
     "data": {
      "text/html": [
       "<div>\n",
       "<style scoped>\n",
       "    .dataframe tbody tr th:only-of-type {\n",
       "        vertical-align: middle;\n",
       "    }\n",
       "\n",
       "    .dataframe tbody tr th {\n",
       "        vertical-align: top;\n",
       "    }\n",
       "\n",
       "    .dataframe thead th {\n",
       "        text-align: right;\n",
       "    }\n",
       "</style>\n",
       "<table border=\"1\" class=\"dataframe\">\n",
       "  <thead>\n",
       "    <tr style=\"text-align: right;\">\n",
       "      <th></th>\n",
       "      <th>headline</th>\n",
       "      <th>category</th>\n",
       "      <th>short_description</th>\n",
       "    </tr>\n",
       "  </thead>\n",
       "  <tbody>\n",
       "    <tr>\n",
       "      <th>0</th>\n",
       "      <td>Over 4 Million Americans Roll Up Sleeves For O...</td>\n",
       "      <td>U.S. NEWS</td>\n",
       "      <td>Health experts said it is too early to predict...</td>\n",
       "    </tr>\n",
       "    <tr>\n",
       "      <th>1</th>\n",
       "      <td>American Airlines Flyer Charged, Banned For Li...</td>\n",
       "      <td>U.S. NEWS</td>\n",
       "      <td>He was subdued by passengers and crew when he ...</td>\n",
       "    </tr>\n",
       "    <tr>\n",
       "      <th>2</th>\n",
       "      <td>23 Of The Funniest Tweets About Cats And Dogs ...</td>\n",
       "      <td>COMEDY</td>\n",
       "      <td>\"Until you have a dog you don't understand wha...</td>\n",
       "    </tr>\n",
       "    <tr>\n",
       "      <th>3</th>\n",
       "      <td>The Funniest Tweets From Parents This Week (Se...</td>\n",
       "      <td>PARENTING</td>\n",
       "      <td>\"Accidentally put grown-up toothpaste on my to...</td>\n",
       "    </tr>\n",
       "    <tr>\n",
       "      <th>4</th>\n",
       "      <td>Woman Who Called Cops On Black Bird-Watcher Lo...</td>\n",
       "      <td>U.S. NEWS</td>\n",
       "      <td>Amy Cooper accused investment firm Franklin Te...</td>\n",
       "    </tr>\n",
       "    <tr>\n",
       "      <th>...</th>\n",
       "      <td>...</td>\n",
       "      <td>...</td>\n",
       "      <td>...</td>\n",
       "    </tr>\n",
       "    <tr>\n",
       "      <th>209522</th>\n",
       "      <td>RIM CEO Thorsten Heins' 'Significant' Plans Fo...</td>\n",
       "      <td>TECH</td>\n",
       "      <td>Verizon Wireless and AT&amp;T are already promotin...</td>\n",
       "    </tr>\n",
       "    <tr>\n",
       "      <th>209523</th>\n",
       "      <td>Maria Sharapova Stunned By Victoria Azarenka I...</td>\n",
       "      <td>SPORTS</td>\n",
       "      <td>Afterward, Azarenka, more effusive with the pr...</td>\n",
       "    </tr>\n",
       "    <tr>\n",
       "      <th>209524</th>\n",
       "      <td>Giants Over Patriots, Jets Over Colts Among  M...</td>\n",
       "      <td>SPORTS</td>\n",
       "      <td>Leading up to Super Bowl XLVI, the most talked...</td>\n",
       "    </tr>\n",
       "    <tr>\n",
       "      <th>209525</th>\n",
       "      <td>Aldon Smith Arrested: 49ers Linebacker Busted ...</td>\n",
       "      <td>SPORTS</td>\n",
       "      <td>CORRECTION: An earlier version of this story i...</td>\n",
       "    </tr>\n",
       "    <tr>\n",
       "      <th>209526</th>\n",
       "      <td>Dwight Howard Rips Teammates After Magic Loss ...</td>\n",
       "      <td>SPORTS</td>\n",
       "      <td>The five-time all-star center tore into his te...</td>\n",
       "    </tr>\n",
       "  </tbody>\n",
       "</table>\n",
       "<p>209527 rows × 3 columns</p>\n",
       "</div>"
      ],
      "text/plain": [
       "                                                 headline   category  \\\n",
       "0       Over 4 Million Americans Roll Up Sleeves For O...  U.S. NEWS   \n",
       "1       American Airlines Flyer Charged, Banned For Li...  U.S. NEWS   \n",
       "2       23 Of The Funniest Tweets About Cats And Dogs ...     COMEDY   \n",
       "3       The Funniest Tweets From Parents This Week (Se...  PARENTING   \n",
       "4       Woman Who Called Cops On Black Bird-Watcher Lo...  U.S. NEWS   \n",
       "...                                                   ...        ...   \n",
       "209522  RIM CEO Thorsten Heins' 'Significant' Plans Fo...       TECH   \n",
       "209523  Maria Sharapova Stunned By Victoria Azarenka I...     SPORTS   \n",
       "209524  Giants Over Patriots, Jets Over Colts Among  M...     SPORTS   \n",
       "209525  Aldon Smith Arrested: 49ers Linebacker Busted ...     SPORTS   \n",
       "209526  Dwight Howard Rips Teammates After Magic Loss ...     SPORTS   \n",
       "\n",
       "                                        short_description  \n",
       "0       Health experts said it is too early to predict...  \n",
       "1       He was subdued by passengers and crew when he ...  \n",
       "2       \"Until you have a dog you don't understand wha...  \n",
       "3       \"Accidentally put grown-up toothpaste on my to...  \n",
       "4       Amy Cooper accused investment firm Franklin Te...  \n",
       "...                                                   ...  \n",
       "209522  Verizon Wireless and AT&T are already promotin...  \n",
       "209523  Afterward, Azarenka, more effusive with the pr...  \n",
       "209524  Leading up to Super Bowl XLVI, the most talked...  \n",
       "209525  CORRECTION: An earlier version of this story i...  \n",
       "209526  The five-time all-star center tore into his te...  \n",
       "\n",
       "[209527 rows x 3 columns]"
      ]
     },
     "execution_count": 3,
     "metadata": {},
     "output_type": "execute_result"
    }
   ],
   "source": [
    "df"
   ]
  },
  {
   "cell_type": "code",
   "execution_count": 4,
   "id": "ef96be4c",
   "metadata": {},
   "outputs": [
    {
     "name": "stdout",
     "output_type": "stream",
     "text": [
      "['U.S. NEWS' 'COMEDY' 'PARENTING' 'WORLD NEWS' 'CULTURE & ARTS' 'TECH'\n",
      " 'SPORTS' 'ENTERTAINMENT' 'POLITICS' 'WEIRD NEWS' 'ENVIRONMENT'\n",
      " 'EDUCATION' 'CRIME' 'SCIENCE' 'WELLNESS' 'BUSINESS' 'STYLE & BEAUTY'\n",
      " 'FOOD & DRINK' 'MEDIA' 'QUEER VOICES' 'HOME & LIVING' 'WOMEN'\n",
      " 'BLACK VOICES' 'TRAVEL' 'MONEY' 'RELIGION' 'LATINO VOICES' 'IMPACT'\n",
      " 'WEDDINGS' 'COLLEGE' 'PARENTS' 'ARTS & CULTURE' 'STYLE' 'GREEN' 'TASTE'\n",
      " 'HEALTHY LIVING' 'THE WORLDPOST' 'GOOD NEWS' 'WORLDPOST' 'FIFTY' 'ARTS'\n",
      " 'DIVORCE']\n"
     ]
    }
   ],
   "source": [
    "target_category = df['category'].unique()\n",
    "print(target_category)"
   ]
  },
  {
   "cell_type": "markdown",
   "id": "49114e58",
   "metadata": {},
   "source": [
    "## From Object to text"
   ]
  },
  {
   "cell_type": "code",
   "execution_count": 5,
   "id": "162c1b6b",
   "metadata": {},
   "outputs": [],
   "source": [
    "df['category'] = df['category'].astype('string')\n",
    "df['headline'] = df['headline'].astype('string')\n",
    "df['short_description'] = df['short_description'].astype('string')"
   ]
  },
  {
   "cell_type": "code",
   "execution_count": 6,
   "id": "749cc44d",
   "metadata": {},
   "outputs": [],
   "source": [
    "# category = df[['category', 'categoryId']].drop_duplicates().sort_values('categoryId')\n",
    "# category.head()"
   ]
  },
  {
   "cell_type": "code",
   "execution_count": 7,
   "id": "55897bbb",
   "metadata": {},
   "outputs": [
    {
     "data": {
      "text/html": [
       "<div>\n",
       "<style scoped>\n",
       "    .dataframe tbody tr th:only-of-type {\n",
       "        vertical-align: middle;\n",
       "    }\n",
       "\n",
       "    .dataframe tbody tr th {\n",
       "        vertical-align: top;\n",
       "    }\n",
       "\n",
       "    .dataframe thead th {\n",
       "        text-align: right;\n",
       "    }\n",
       "</style>\n",
       "<table border=\"1\" class=\"dataframe\">\n",
       "  <thead>\n",
       "    <tr style=\"text-align: right;\">\n",
       "      <th></th>\n",
       "      <th>headline</th>\n",
       "      <th>category</th>\n",
       "      <th>short_description</th>\n",
       "    </tr>\n",
       "  </thead>\n",
       "  <tbody>\n",
       "  </tbody>\n",
       "</table>\n",
       "</div>"
      ],
      "text/plain": [
       "Empty DataFrame\n",
       "Columns: [headline, category, short_description]\n",
       "Index: []"
      ]
     },
     "execution_count": 7,
     "metadata": {},
     "output_type": "execute_result"
    }
   ],
   "source": [
    "df[df['category']== 'impact'].iloc[34:50]"
   ]
  },
  {
   "cell_type": "code",
   "execution_count": 8,
   "id": "9f0a5b0c",
   "metadata": {},
   "outputs": [
    {
     "data": {
      "text/plain": [
       "POLITICS          35602\n",
       "WELLNESS          17945\n",
       "ENTERTAINMENT     17362\n",
       "TRAVEL             9900\n",
       "STYLE & BEAUTY     9814\n",
       "PARENTING          8791\n",
       "HEALTHY LIVING     6694\n",
       "QUEER VOICES       6347\n",
       "FOOD & DRINK       6340\n",
       "BUSINESS           5992\n",
       "COMEDY             5400\n",
       "SPORTS             5077\n",
       "BLACK VOICES       4583\n",
       "HOME & LIVING      4320\n",
       "PARENTS            3955\n",
       "THE WORLDPOST      3664\n",
       "WEDDINGS           3653\n",
       "WOMEN              3572\n",
       "CRIME              3562\n",
       "IMPACT             3484\n",
       "DIVORCE            3426\n",
       "WORLD NEWS         3299\n",
       "MEDIA              2944\n",
       "WEIRD NEWS         2777\n",
       "GREEN              2622\n",
       "WORLDPOST          2579\n",
       "RELIGION           2577\n",
       "STYLE              2254\n",
       "SCIENCE            2206\n",
       "TECH               2104\n",
       "TASTE              2096\n",
       "MONEY              1756\n",
       "ARTS               1509\n",
       "ENVIRONMENT        1444\n",
       "FIFTY              1401\n",
       "GOOD NEWS          1398\n",
       "U.S. NEWS          1377\n",
       "ARTS & CULTURE     1339\n",
       "COLLEGE            1144\n",
       "LATINO VOICES      1130\n",
       "CULTURE & ARTS     1074\n",
       "EDUCATION          1014\n",
       "Name: category, dtype: Int64"
      ]
     },
     "execution_count": 8,
     "metadata": {},
     "output_type": "execute_result"
    }
   ],
   "source": [
    "df['category'].iloc[0:5]\n",
    "df['category'].value_counts()"
   ]
  },
  {
   "cell_type": "markdown",
   "id": "0a96772e",
   "metadata": {},
   "source": [
    "### To lower"
   ]
  },
  {
   "cell_type": "code",
   "execution_count": 9,
   "id": "62299f37",
   "metadata": {},
   "outputs": [],
   "source": [
    "df['headline'] = df['headline'].str.lower()\n",
    "df['category'] = df['category'].str.lower()\n",
    "df['short_description'] = df['short_description'].str.lower()\n"
   ]
  },
  {
   "cell_type": "markdown",
   "id": "71d2f227",
   "metadata": {},
   "source": [
    "# Merging similar classes"
   ]
  },
  {
   "cell_type": "code",
   "execution_count": 10,
   "id": "f8ab1d91",
   "metadata": {},
   "outputs": [],
   "source": [
    "for index, row in df.iterrows():\n",
    "    i = df['category'].at[index]\n",
    "    \n",
    "    if(i == \"world news\"):\n",
    "        df['category'].at[index] = \"worldpost\" \n",
    "        \n",
    " \n",
    "    if( i==\"ARTS\"):\n",
    "        df['category'].at[index] = \"arts & culture\"\n",
    "        \n",
    "    if( i==\"wellness\"):\n",
    "        df['category'].at[index] = \"healthy living\"\n",
    "    \n",
    "    if( i==\"taste\"):\n",
    "        df['category'].at[index] = \"food & drink\"\n",
    "   \n",
    "    if( i==\"parenting\"):\n",
    "        df['category'].at[index] = \"parents\"\n",
    "   \n"
   ]
  },
  {
   "cell_type": "markdown",
   "id": "56423394",
   "metadata": {},
   "source": [
    "# Removing useless words"
   ]
  },
  {
   "cell_type": "code",
   "execution_count": 11,
   "id": "337e5ad1",
   "metadata": {},
   "outputs": [],
   "source": [
    "import nltk\n",
    "# nltk.download('stopwords')\n",
    "# nltk.download('punkt')\n",
    "from nltk.corpus import stopwords\n",
    "from nltk.tokenize import word_tokenize\n",
    "# from nltk.tokenize import sent_tokenize\n",
    "# print(stopwords.words('english'))\n",
    "\n",
    "def remove_stopword(text):\n",
    "    stop_word = set(stopwords.words('english'))\n",
    "#     words = word_tokenize(text)\n",
    "    return  \" \".join([x for x in text.split() if x not in stop_word])\n",
    "\n",
    "\n",
    "df['headline'] = df['headline'].apply(remove_stopword)\n",
    "df['short_description'] = df['short_description'].apply(remove_stopword)\n"
   ]
  },
  {
   "cell_type": "code",
   "execution_count": 12,
   "id": "cf43821c",
   "metadata": {},
   "outputs": [],
   "source": [
    "def special_char(text):\n",
    "    reviews = ''\n",
    "    \n",
    "    for x in text:\n",
    "        if(x == \" \"):\n",
    "            reviews += \" \"\n",
    "            \n",
    "        elif(x.isalnum()):\n",
    "            reviews += x\n",
    "            \n",
    "    return reviews\n",
    "\n",
    "df['headline'] = df['headline'].apply(special_char)\n",
    "df['short_description'] = df['short_description'].apply(special_char)\n"
   ]
  },
  {
   "cell_type": "markdown",
   "id": "4634c0f6",
   "metadata": {},
   "source": [
    "## To vectorize document"
   ]
  },
  {
   "cell_type": "code",
   "execution_count": 13,
   "id": "cf9c940e",
   "metadata": {},
   "outputs": [
    {
     "data": {
      "text/plain": [
       "(209527, 21571)"
      ]
     },
     "execution_count": 13,
     "metadata": {},
     "output_type": "execute_result"
    }
   ],
   "source": [
    "from sklearn.feature_extraction.text import CountVectorizer\n",
    "from sklearn.feature_extraction.text import TfidfVectorizer\n",
    "\n",
    "\n",
    "## min_df halves at min values does not give more than half df_min -> infrequent , max -> common\n",
    "vec_head = TfidfVectorizer(min_df=0.000011,max_df = 0.00012, lowercase=False ,  dtype=np.float32)\n",
    "vec_desc = TfidfVectorizer(min_df=0.000011,max_df = 0.00004, lowercase=False,   dtype=np.float32)\n",
    "\n",
    "\n",
    "# vec_head = TfidfVectorizer( lowercase=False ,  dtype=np.float32)\n",
    "# vec_desc = TfidfVectorizer( lowercase=False,   dtype=np.float32)\n",
    "\n",
    "\n",
    "x_head =  vec_head.fit_transform(df['headline'])\n",
    "x_desc = vec_desc.fit_transform(df['short_description']) \n",
    "\n",
    "\n",
    "x_head.sort_indices()\n",
    "x_desc.sort_indices()\n",
    "\n",
    "# x_head = x_head.toarray()\n",
    "# x_desc = x_desc.toarray()\n",
    "\n",
    "# print(\"First row avaliable words\")\n",
    "# print((x_head[0,0:]))\n",
    "x_head.shape\n"
   ]
  },
  {
   "cell_type": "code",
   "execution_count": 14,
   "id": "b7c94dc9",
   "metadata": {},
   "outputs": [
    {
     "name": "stdout",
     "output_type": "stream",
     "text": [
      "Words: keys\n"
     ]
    }
   ],
   "source": [
    "print(\"Words: keys\")\n",
    "# vec.get_feature_names_out()\n",
    "# vec.vocabulary_"
   ]
  },
  {
   "cell_type": "code",
   "execution_count": 15,
   "id": "8ca90a45",
   "metadata": {},
   "outputs": [],
   "source": [
    "def to_categorical(y, num_classes = None, dtype=\"float32\"):\n",
    "    y = np.array(y, dtype=\"int\")\n",
    "    input_shape = y.shape\n",
    "    if input_shape and input_shape[-1] == 1 and len(input_shape) > 1:\n",
    "        input_shape = tuple(input_shape[:-1])\n",
    "    y = y.ravel()\n",
    "    if not num_classes:\n",
    "        num_classes = np.max(y) + 1\n",
    "    n = y.shape[0]\n",
    "    categorical = np.zeros((n, num_classes), dtype=dtype)\n",
    "    categorical[np.arange(n), y] = 1\n",
    "    output_shape = input_shape + (num_classes,)\n",
    "    categorical = np.reshape(categorical, output_shape)\n",
    "    return categorical"
   ]
  },
  {
   "cell_type": "markdown",
   "id": "1f60a22b",
   "metadata": {},
   "source": [
    "## Category Encoding"
   ]
  },
  {
   "cell_type": "code",
   "execution_count": 16,
   "id": "f4f823ee",
   "metadata": {},
   "outputs": [
    {
     "name": "stdout",
     "output_type": "stream",
     "text": [
      "LabelEncode\n",
      "[33 33  5 ... 27 27 27]\n",
      "\n",
      " To_Categorical one hot encode\n",
      "[[0. 0. 0. ... 0. 0. 0.]\n",
      " [0. 0. 0. ... 0. 0. 0.]\n",
      " [0. 0. 0. ... 0. 0. 0.]\n",
      " ...\n",
      " [0. 0. 0. ... 0. 0. 0.]\n",
      " [0. 0. 0. ... 0. 0. 0.]\n",
      " [0. 0. 0. ... 0. 0. 0.]]\n"
     ]
    }
   ],
   "source": [
    "from sklearn.preprocessing import LabelEncoder\n",
    "\n",
    "# from tensorflow.keras.utils import np_utils\n",
    "# from tensorflow.keras.utils import to_categorical\n",
    "\n",
    "le = LabelEncoder()\n",
    "labelEncode = le.fit(df[\"category\"])\n",
    "label = labelEncode\n",
    "\n",
    "labelEncode = le.fit_transform(df[\"category\"])\n",
    "\n",
    "print(\"LabelEncode\")\n",
    "print(labelEncode)\n",
    "\n",
    "categorical_y = to_categorical(labelEncode)\n",
    "print(\"\\n To_Categorical one hot encode\")\n",
    "print(categorical_y)"
   ]
  },
  {
   "cell_type": "code",
   "execution_count": 17,
   "id": "822724c1",
   "metadata": {},
   "outputs": [
    {
     "data": {
      "text/plain": [
       "array(['arts', 'arts & culture', 'black voices', 'business', 'college',\n",
       "       'comedy', 'crime', 'culture & arts', 'divorce', 'education',\n",
       "       'entertainment', 'environment', 'fifty', 'food & drink',\n",
       "       'good news', 'green', 'healthy living', 'home & living', 'impact',\n",
       "       'latino voices', 'media', 'money', 'parents', 'politics',\n",
       "       'queer voices', 'religion', 'science', 'sports', 'style',\n",
       "       'style & beauty', 'tech', 'the worldpost', 'travel', 'u.s. news',\n",
       "       'weddings', 'weird news', 'women', 'worldpost'], dtype=object)"
      ]
     },
     "execution_count": 17,
     "metadata": {},
     "output_type": "execute_result"
    }
   ],
   "source": [
    "label.classes_"
   ]
  },
  {
   "cell_type": "markdown",
   "id": "86e4d577",
   "metadata": {},
   "source": [
    "### Healine Split"
   ]
  },
  {
   "cell_type": "code",
   "execution_count": 18,
   "id": "0fa90d57",
   "metadata": {},
   "outputs": [
    {
     "data": {
      "text/plain": [
       "<209527x21571 sparse matrix of type '<class 'numpy.float32'>'\n",
       "\twith 177626 stored elements in Compressed Sparse Row format>"
      ]
     },
     "execution_count": 18,
     "metadata": {},
     "output_type": "execute_result"
    }
   ],
   "source": [
    "x_head"
   ]
  },
  {
   "cell_type": "code",
   "execution_count": 139,
   "id": "68a3c353",
   "metadata": {},
   "outputs": [
    {
     "name": "stdout",
     "output_type": "stream",
     "text": [
      "188574\n",
      "20953\n",
      "[[0. 0. 0. ... 0. 0. 0.]\n",
      " [0. 0. 0. ... 0. 0. 0.]\n",
      " [0. 0. 0. ... 0. 0. 0.]\n",
      " ...\n",
      " [0. 0. 0. ... 0. 0. 0.]\n",
      " [0. 0. 0. ... 0. 0. 0.]\n",
      " [0. 0. 0. ... 0. 0. 0.]]\n"
     ]
    }
   ],
   "source": [
    "from sklearn.model_selection import train_test_split\n",
    "\n",
    "x_train_head, x_test_head, y_train_head, y_test_head = train_test_split(x_head, categorical_y, test_size = 0.1, random_state = 2, stratify = categorical_y)\n",
    "print(x_train_head.shape[0])\n",
    "print(x_test_head.shape[0])\n",
    "print(categorical_y)\n",
    "\n",
    "# print(\"First row sorted word map\")\n",
    "# print(x[0,0:])"
   ]
  },
  {
   "cell_type": "markdown",
   "id": "bb35920b",
   "metadata": {},
   "source": [
    "### Description Split"
   ]
  },
  {
   "cell_type": "code",
   "execution_count": 140,
   "id": "b506b76c",
   "metadata": {
    "scrolled": true
   },
   "outputs": [
    {
     "name": "stdout",
     "output_type": "stream",
     "text": [
      "188574\n",
      "20953\n",
      "[[0. 0. 0. ... 0. 0. 0.]\n",
      " [0. 0. 0. ... 0. 0. 0.]\n",
      " [0. 0. 0. ... 0. 0. 0.]\n",
      " ...\n",
      " [0. 0. 0. ... 0. 0. 0.]\n",
      " [0. 0. 0. ... 0. 0. 0.]\n",
      " [0. 0. 0. ... 0. 0. 0.]]\n"
     ]
    }
   ],
   "source": [
    "from sklearn.model_selection import train_test_split\n",
    "\n",
    "x_train_desc, x_test_desc, y_train_desc, y_test_desc = train_test_split(x_desc, categorical_y, test_size = 0.1, random_state = 2, stratify = categorical_y)\n",
    "print(x_train_desc.shape[0])\n",
    "print(x_test_desc.shape[0])\n",
    "print(categorical_y)\n",
    "\n",
    "# print(\"First row sorted word map\")\n",
    "# print(x[0,0:])"
   ]
  },
  {
   "cell_type": "markdown",
   "id": "69d80d7f",
   "metadata": {},
   "source": [
    "#### Validating Random state"
   ]
  },
  {
   "cell_type": "code",
   "execution_count": 125,
   "id": "7638562f",
   "metadata": {
    "scrolled": true
   },
   "outputs": [
    {
     "data": {
      "text/plain": [
       "array([0., 0., 0., 0., 0., 0., 0., 0., 0., 0., 1., 0., 0., 0., 0., 0., 0.,\n",
       "       0., 0., 0., 0., 0., 0., 0., 0., 0., 0., 0., 0., 0., 0., 0., 0., 0.,\n",
       "       0., 0., 0., 0.], dtype=float32)"
      ]
     },
     "execution_count": 125,
     "metadata": {},
     "output_type": "execute_result"
    }
   ],
   "source": [
    "y_train_head[23]"
   ]
  },
  {
   "cell_type": "code",
   "execution_count": 126,
   "id": "996f7cef",
   "metadata": {
    "scrolled": true
   },
   "outputs": [
    {
     "data": {
      "text/plain": [
       "array([0., 0., 0., 0., 0., 0., 0., 0., 0., 0., 1., 0., 0., 0., 0., 0., 0.,\n",
       "       0., 0., 0., 0., 0., 0., 0., 0., 0., 0., 0., 0., 0., 0., 0., 0., 0.,\n",
       "       0., 0., 0., 0.], dtype=float32)"
      ]
     },
     "execution_count": 126,
     "metadata": {},
     "output_type": "execute_result"
    }
   ],
   "source": [
    "y_train_desc[23]"
   ]
  },
  {
   "cell_type": "code",
   "execution_count": 127,
   "id": "931d47a3",
   "metadata": {},
   "outputs": [
    {
     "data": {
      "text/plain": [
       "(188574, 38)"
      ]
     },
     "execution_count": 127,
     "metadata": {},
     "output_type": "execute_result"
    }
   ],
   "source": [
    "# x_train_head2 = np.array(x_train_head.toarray(),dtype = 'float16')\n",
    "\n",
    "y_train_desc.shape"
   ]
  },
  {
   "cell_type": "markdown",
   "id": "21886d5c",
   "metadata": {},
   "source": [
    "## Merging the diff splits"
   ]
  },
  {
   "cell_type": "code",
   "execution_count": 128,
   "id": "28071677",
   "metadata": {},
   "outputs": [],
   "source": [
    "# import tensorflow as tf\n",
    "# from tensorflow import convert_to_tensor\n",
    "\n",
    "# y_train_head= tf.convert_to_tensor(y_train_head)\n",
    "# y_test_head= tf.convert_to_tensor(y_test_head)\n",
    "\n",
    "# x_train_head= tf.convert_to_tensor(x_train_head.todense())\n",
    "# x_test_head= tf.convert_to_tensor(x_test_head.todense())"
   ]
  },
  {
   "cell_type": "code",
   "execution_count": 129,
   "id": "e004619d",
   "metadata": {},
   "outputs": [],
   "source": [
    "# y_train_desc= tf.convert_to_tensor(y_train_desc)\n",
    "# y_test_desc= tf.convert_to_tensor(y_test_desc)\n",
    "\n",
    "# x_train_desc = tf.convert_to_tensor(x_train_desc.todense())\n",
    "# x_test_desc = tf.convert_to_tensor(x_test_desc.todense())"
   ]
  },
  {
   "cell_type": "code",
   "execution_count": 130,
   "id": "f45156a4",
   "metadata": {},
   "outputs": [],
   "source": [
    "# from scipy.sparse import coo_matrix, hstack\n",
    "\n",
    "# x_train = hstack([x_train_head,x_train_desc])\n",
    "# x_test = hstack([x_test_head, x_test_desc])\n",
    "\n"
   ]
  },
  {
   "cell_type": "markdown",
   "id": "c03d195e",
   "metadata": {},
   "source": [
    "## sparse to tensor"
   ]
  },
  {
   "cell_type": "code",
   "execution_count": 131,
   "id": "0b9f3337",
   "metadata": {},
   "outputs": [],
   "source": [
    "import tensorflow as tf \n",
    "\n",
    "\n",
    "from tensorflow.python.eager.def_function import experimental_run_functions_eagerly\n",
    "from keras.models import Sequential\n",
    "import keras\n",
    "from keras.layers import Dense, Dropout\n",
    "from keras.optimizers import Adam\n",
    "from keras.utils import plot_model\n",
    "from keras.losses import categorical_crossentropy\n",
    "from tensorflow.keras import layers\n",
    "from tensorflow.keras import regularizers\n",
    "import tensorflow as tf \n",
    "# import tensorflow_ranking as tfr\n",
    "import keras"
   ]
  },
  {
   "cell_type": "code",
   "execution_count": null,
   "id": "fc247147",
   "metadata": {},
   "outputs": [],
   "source": []
  },
  {
   "cell_type": "markdown",
   "id": "7cd65e4b",
   "metadata": {},
   "source": [
    "# validation splits\n"
   ]
  },
  {
   "cell_type": "code",
   "execution_count": 132,
   "id": "79dae467",
   "metadata": {},
   "outputs": [],
   "source": [
    "x_train_head, x_val_head, y_train_head, y_val_head = train_test_split(x_train_head, y_train_head, test_size = 0.1, random_state = 2, stratify = y_train_head)\n",
    "\n",
    "x_train_desc, x_val_desc, y_train_desc, y_val_desc = train_test_split(x_train_desc, y_train_desc, test_size = 0.1, random_state = 2, stratify = y_train_desc)\n",
    "\n",
    "class_weights = generate_class_weights(categorical_y)"
   ]
  },
  {
   "cell_type": "code",
   "execution_count": 133,
   "id": "0cf1fb49",
   "metadata": {},
   "outputs": [],
   "source": [
    "# print(y_val_desc[9])\n",
    "# print(y_val_head[9])"
   ]
  },
  {
   "cell_type": "markdown",
   "id": "b8a7745a",
   "metadata": {},
   "source": [
    "## Multi input model"
   ]
  },
  {
   "cell_type": "raw",
   "id": "72cea4ae",
   "metadata": {},
   "source": [
    "tanh 264 : Head data with 264 layers it did 40 f1 on train 20 on test\n",
    "tanh 1264 : Head data 32 f1 train, 18 f1 :\n",
    "similar results with incresing layers and epochs and width\n",
    "\n"
   ]
  },
  {
   "cell_type": "code",
   "execution_count": 193,
   "id": "243683fe",
   "metadata": {},
   "outputs": [],
   "source": [
    "head_input = keras.Input(\n",
    "    shape=(x_train_head.shape[1],), name=\"headline\"\n",
    ")  \n",
    "\n",
    "head = Dense(units=124,activation=\"relu\")(head_input)\n",
    "\n",
    "# head = Dense(units=1140,activation=\"relu\")(head)\n",
    "# head = Dense(units=140,activation=\"relu\")(head)\n",
    "\n",
    "#-----------\n",
    "\n",
    "desc_input = keras.Input(\n",
    "    shape=(x_train_desc.shape[1],), name=\"description\"\n",
    ")  \n",
    "desc = Dense(units=124,activation=\"relu\")(desc_input)\n",
    "# desc = Dense(units=40,activation=\"relu\")(desc)\n",
    "#----------- concat\n",
    "x = layers.concatenate([head,desc])\n",
    "\n",
    "x = Dense(units=124,activation=\"relu\")(x)\n",
    "\n",
    "\n",
    "# x = layers.Dense(\n",
    "#     units=64,\n",
    "#     kernel_regularizer=regularizers.L1L2(l1=1e-5, l2=1e-4),\n",
    "#     bias_regularizer=regularizers.L2(1e-4),\n",
    "#     activity_regularizer=regularizers.L2(1e-5)\n",
    "# )(x)\n",
    "\n",
    "\n",
    "# x  = (Dense(units=124,activation=\"relu\"))(x)\n",
    "output = (Dense(units=y_train_head.shape[1], activation=\"softmax\"))(x)\n",
    "\n",
    "\n",
    "#-------\n",
    "model = keras.Model(inputs = [head_input,desc_input],outputs = output)\n",
    "\n",
    "\n",
    "\n",
    "#----------------compile\n",
    "\n",
    "optimizer = Adam(learning_rate=0.01)\n",
    "\n",
    "pre= tf.keras.metrics.Precision( thresholds = 0.5)\n",
    "recall = tf.keras.metrics.Recall(thresholds = 0.5)\n",
    "auc = tf.keras.metrics.AUC(label_weights=True)\n",
    "tf.keras.metrics.CategoricalAccuracy()\n",
    "\n",
    "\n",
    "cce = tf.keras.losses.CategoricalCrossentropy() #not softmax aka normalized\n",
    "# sce = tfr.keras.losses.SigmoidCrossEntropyLoss()\n",
    "# 'from_logits=True'\n",
    "\n",
    "\n",
    "model.compile(optimizer=optimizer,loss=cce)"
   ]
  },
  {
   "cell_type": "code",
   "execution_count": 194,
   "id": "3d8cb56f",
   "metadata": {},
   "outputs": [
    {
     "data": {
      "image/png": "[encoded data removed]",
      "text/plain": [
       "<IPython.core.display.Image object>"
      ]
     },
     "execution_count": 194,
     "metadata": {},
     "output_type": "execute_result"
    }
   ],
   "source": [
    "ann_model = model\n",
    "plot_model(model,show_shapes=True)\n",
    "# model.summary()"
   ]
  },
  {
   "cell_type": "code",
   "execution_count": 195,
   "id": "0beeeed5",
   "metadata": {},
   "outputs": [
    {
     "name": "stdout",
     "output_type": "stream",
     "text": [
      "Epoch 1/15\n"
     ]
    },
    {
     "name": "stderr",
     "output_type": "stream",
     "text": [
      "C:\\Users\\ALI\\AppData\\Roaming\\Python\\Python39\\site-packages\\tensorflow\\python\\framework\\indexed_slices.py:444: UserWarning: Converting sparse IndexedSlices(IndexedSlices(indices=Tensor(\"gradient_tape/model_21/dense_73/embedding_lookup_sparse/Reshape_1:0\", shape=(None,), dtype=int32), values=Tensor(\"gradient_tape/model_21/dense_73/embedding_lookup_sparse/Reshape:0\", shape=(None, 124), dtype=float32), dense_shape=Tensor(\"gradient_tape/model_21/dense_73/embedding_lookup_sparse/Cast:0\", shape=(2,), dtype=int32))) to a dense Tensor of unknown shape. This may consume a large amount of memory.\n",
      "  warnings.warn(\n",
      "C:\\Users\\ALI\\AppData\\Roaming\\Python\\Python39\\site-packages\\tensorflow\\python\\framework\\indexed_slices.py:444: UserWarning: Converting sparse IndexedSlices(IndexedSlices(indices=Tensor(\"gradient_tape/model_21/dense_74/embedding_lookup_sparse/Reshape_1:0\", shape=(None,), dtype=int32), values=Tensor(\"gradient_tape/model_21/dense_74/embedding_lookup_sparse/Reshape:0\", shape=(None, 124), dtype=float32), dense_shape=Tensor(\"gradient_tape/model_21/dense_74/embedding_lookup_sparse/Cast:0\", shape=(2,), dtype=int32))) to a dense Tensor of unknown shape. This may consume a large amount of memory.\n",
      "  warnings.warn(\n"
     ]
    },
    {
     "name": "stdout",
     "output_type": "stream",
     "text": [
      "3772/3772 [==============================] - 190s 50ms/step - loss: 3.5764\n",
      "Epoch 2/15\n",
      "3772/3772 [==============================] - 200s 53ms/step - loss: 3.3253\n",
      "Epoch 3/15\n",
      "3772/3772 [==============================] - 186s 49ms/step - loss: 3.1212\n",
      "Epoch 4/15\n",
      "3772/3772 [==============================] - 184s 49ms/step - loss: 2.9783\n",
      "Epoch 5/15\n",
      "3772/3772 [==============================] - 184s 49ms/step - loss: 2.8790\n",
      "Epoch 6/15\n",
      "3772/3772 [==============================] - 185s 49ms/step - loss: 2.8066\n",
      "Epoch 7/15\n",
      "3772/3772 [==============================] - 184s 49ms/step - loss: 2.7552\n",
      "Epoch 8/15\n",
      "3772/3772 [==============================] - 185s 49ms/step - loss: 2.7095\n",
      "Epoch 9/15\n",
      "3772/3772 [==============================] - 184s 49ms/step - loss: 2.6740\n",
      "Epoch 10/15\n",
      "3772/3772 [==============================] - 182s 48ms/step - loss: 2.6448\n",
      "Epoch 11/15\n",
      "3772/3772 [==============================] - 195s 51ms/step - loss: 2.6194\n",
      "Epoch 12/15\n",
      "3772/3772 [==============================] - 193s 51ms/step - loss: 2.6015\n",
      "Epoch 13/15\n",
      "3772/3772 [==============================] - 206s 54ms/step - loss: 2.5833\n",
      "Epoch 14/15\n",
      "3772/3772 [==============================] - 214s 57ms/step - loss: 2.5683\n",
      "Epoch 15/15\n",
      "3772/3772 [==============================] - 225s 59ms/step - loss: 2.5547\n"
     ]
    }
   ],
   "source": [
    "ann_history = ann_model.fit(x = [ x_train_head, x_train_desc], y =  y_train_head ,\n",
    "                        epochs=15,\n",
    "                        batch_size=50,\n",
    "#                         verbose=1,\n",
    "#                         validation_data = ([x_val_head,x_val_desc],y_val_head),\n",
    "                        class_weight = class_weights \n",
    "                           )"
   ]
  },
  {
   "cell_type": "code",
   "execution_count": null,
   "id": "840545be",
   "metadata": {},
   "outputs": [],
   "source": [
    "# from matplotlib import pyplot as plt\n",
    "\n",
    "\n",
    "# plt.plot(ann_history.history['recall_9'])\n",
    "# plt.plot(ann_history.history['val_recall_9'])\n",
    "\n",
    "# plt.title('model accuracy')\n",
    "# plt.ylabel('accuracy')\n",
    "# plt.xlabel('epoch')\n",
    "# plt.legend(['train', 'validation'], loc='upper left')\n",
    "# plt.show()\n",
    "\n",
    "\n",
    "# pd.DataFrame(history.history).plot(figsize=(8,5))\n",
    "# plt.show()"
   ]
  },
  {
   "cell_type": "markdown",
   "id": "0ca01e98",
   "metadata": {},
   "source": [
    "### Description algorithm"
   ]
  },
  {
   "cell_type": "markdown",
   "id": "c6fdcccd",
   "metadata": {},
   "source": [
    "# User Made Predictions\n"
   ]
  },
  {
   "cell_type": "code",
   "execution_count": 137,
   "id": "2268e922",
   "metadata": {},
   "outputs": [],
   "source": [
    "data_head = vec_head.transform([\"Black people are killing people\"]).toarray()\n",
    "data_desc = vec_desc.transform([\"Couple of males killed a boy in black neighbour\"]).toarray\n",
    "\n",
    "data = [data_head,data_desc]"
   ]
  },
  {
   "cell_type": "code",
   "execution_count": null,
   "id": "4861ff3f",
   "metadata": {},
   "outputs": [],
   "source": [
    "data[0]"
   ]
  },
  {
   "cell_type": "code",
   "execution_count": null,
   "id": "9debbd9f",
   "metadata": {
    "scrolled": true
   },
   "outputs": [],
   "source": [
    "pred= annModel.predict(data)"
   ]
  },
  {
   "cell_type": "code",
   "execution_count": null,
   "id": "581accde",
   "metadata": {},
   "outputs": [],
   "source": [
    "# pred.index(max(pred)) for simple array'\n",
    "temp = pred.argmax()\n",
    "\n",
    "print(np.amax(pred))\n",
    "print(pred.argmax())\n",
    "print(le.inverse_transform([pred.argmax()]))"
   ]
  },
  {
   "cell_type": "markdown",
   "id": "8c9700e0",
   "metadata": {},
   "source": [
    "## Evaluation"
   ]
  },
  {
   "cell_type": "code",
   "execution_count": 143,
   "id": "43376f45",
   "metadata": {},
   "outputs": [
    {
     "data": {
      "text/plain": [
       "(20953, 17844)"
      ]
     },
     "execution_count": 143,
     "metadata": {},
     "output_type": "execute_result"
    }
   ],
   "source": [
    "x_test_desc.shape\n"
   ]
  },
  {
   "cell_type": "code",
   "execution_count": 185,
   "id": "01694a93",
   "metadata": {},
   "outputs": [
    {
     "name": "stdout",
     "output_type": "stream",
     "text": [
      "655/655 [==============================] - 1s 1ms/step\n",
      "5893/5893 [==============================] - 7s 1ms/step\n"
     ]
    }
   ],
   "source": [
    "y_pred_test_cont = ann_model.predict([x_test_head,x_test_desc])\n",
    "y_pred_train_cont = ann_model.predict([x_train_head,x_train_desc])"
   ]
  },
  {
   "cell_type": "code",
   "execution_count": 186,
   "id": "a7b723b1",
   "metadata": {
    "scrolled": true
   },
   "outputs": [
    {
     "name": "stdout",
     "output_type": "stream",
     "text": [
      "Weighted F1-Score:  0.22594376924955165\n",
      "Train Weighted F1-Score:  0.5102155579448235\n"
     ]
    }
   ],
   "source": [
    "from sklearn.metrics import precision_score, recall_score, f1_score, accuracy_score# bin_classif = cont_to_bin(ypred)\n",
    "\n",
    "# to binary\n",
    "y_pred_test_bin = cont_to_bin(y_pred_test_cont)\n",
    "y_pred_train_bin = cont_to_bin(y_pred_train_cont)\n",
    "\n",
    "\n",
    "# inverse count vector\n",
    "# y_test_desc = vec_desc.inverse_transform(y_test_desc)\n",
    "# x_test_head = vec_head.inverse_transform(x_test_head)\n",
    "\n",
    "# y_pred_train = vec.inverse_transform(y_pred_train_count)\n",
    "# y_pred_test = vec.inverse_transform(y_pred_test_count)\n",
    "\n",
    "score_test = f1_score(y_test_head, y_pred_test_bin,average = 'weighted')\n",
    "score_train = f1_score(y_train_head, y_pred_train_bin,average = 'weighted')\n",
    "\n",
    "print(\"Weighted F1-Score: \", score_test)\n",
    "print(\"Train Weighted F1-Score: \", score_train)"
   ]
  },
  {
   "cell_type": "markdown",
   "id": "30675528",
   "metadata": {},
   "source": [
    "## Eval metric"
   ]
  },
  {
   "cell_type": "code",
   "execution_count": null,
   "id": "f5794601",
   "metadata": {},
   "outputs": [],
   "source": [
    "type(x_test_desc)\n",
    "\n",
    "_test_head = x_test_head.toarray()\n",
    "_test_desc = x_test_desc.toarray()\n",
    "\n"
   ]
  },
  {
   "cell_type": "code",
   "execution_count": null,
   "id": "565533ae",
   "metadata": {},
   "outputs": [],
   "source": [
    "_test_desc.shape"
   ]
  },
  {
   "cell_type": "code",
   "execution_count": null,
   "id": "b286687e",
   "metadata": {},
   "outputs": [],
   "source": [
    "annModel.input_shape"
   ]
  },
  {
   "cell_type": "code",
   "execution_count": null,
   "id": "dc447e3a",
   "metadata": {},
   "outputs": [],
   "source": [
    "test_loss, test_acc, test_precision, test_recall = annModel.evaluate(x = [_test_head, _test_desc], y= y_test_head)"
   ]
  },
  {
   "cell_type": "code",
   "execution_count": null,
   "id": "c3fffd53",
   "metadata": {},
   "outputs": [],
   "source": [
    "y_pred = annModel.predict([_test_head, _test_desc])"
   ]
  },
  {
   "cell_type": "code",
   "execution_count": null,
   "id": "65d3462b",
   "metadata": {},
   "outputs": [],
   "source": [
    "y_pred"
   ]
  },
  {
   "cell_type": "code",
   "execution_count": null,
   "id": "5f3be003",
   "metadata": {},
   "outputs": [],
   "source": [
    "from sklearn.metrics import coverage_error,label_ranking_average_precision_score\n",
    "coverage_error(y_test_desc, y_pred)"
   ]
  },
  {
   "cell_type": "code",
   "execution_count": null,
   "id": "fddd6142",
   "metadata": {},
   "outputs": [],
   "source": [
    "coverage_error(y_test_head, y_pred)"
   ]
  },
  {
   "cell_type": "code",
   "execution_count": null,
   "id": "69f7283d",
   "metadata": {},
   "outputs": [],
   "source": [
    "from sklearn.metrics import label_ranking_average_precision_score\n",
    "\n",
    "#1/x\n",
    "##gives ranking by if first = 1, 2nd = 0.5, 3rd = 0.33, 4th= 0.25, 5th = 0.2, 6th = 0.166 did not = 0\n",
    "label_ranking_average_precision_score(y_test_desc, y_pred )"
   ]
  },
  {
   "cell_type": "code",
   "execution_count": null,
   "id": "01444f5c",
   "metadata": {},
   "outputs": [],
   "source": [
    "label_ranking_average_precision_score(y_test_head, y_pred )"
   ]
  },
  {
   "cell_type": "markdown",
   "id": "0405377a",
   "metadata": {},
   "source": [
    "# Multi label Confusion Matrix"
   ]
  },
  {
   "cell_type": "code",
   "execution_count": null,
   "id": "292c04e0",
   "metadata": {
    "scrolled": true
   },
   "outputs": [],
   "source": [
    "Y_pred = np.argmax(ann_model.predict(x_test_head),axis=1)\n"
   ]
  },
  {
   "cell_type": "code",
   "execution_count": null,
   "id": "5fa3afe8",
   "metadata": {},
   "outputs": [],
   "source": [
    "# Y_pred\n",
    "print(Y_pred[1])\n",
    "y_pred[1]"
   ]
  },
  {
   "cell_type": "code",
   "execution_count": null,
   "id": "f467122d",
   "metadata": {},
   "outputs": [],
   "source": [
    "from sklearn.metrics import multilabel_confusion_matrix\n",
    "\n",
    "\n",
    "\n",
    "multilabel_confusion_matrix(y_test_head, Y_pred)"
   ]
  },
  {
   "cell_type": "code",
   "execution_count": null,
   "id": "61757e93",
   "metadata": {},
   "outputs": [],
   "source": [
    "import numpy as np\n",
    "from sklearn.metrics import label_ranking_average_precision_score\n",
    "y_true = np.array([[0, 0, 0,0,0,0,0,0,1]])\n",
    "y_score = np.array([[0.2, 0.2, 0.2,0.5,0,0,0,0.2,0.1]])\n",
    "label_ranking_average_precision_score(y_true, y_score)"
   ]
  },
  {
   "cell_type": "code",
   "execution_count": null,
   "id": "a0261888",
   "metadata": {
    "scrolled": true
   },
   "outputs": [],
   "source": [
    "Precision = precision_score(y_test_desc, y_pred, average = None)\n",
    "Recall = recall_score(y_test_desc, y_pred, average= None)\n",
    "score = f1_score(y_test, y_pred_test,average = None)\n",
    "\n",
    "\n",
    "data = {'Category':label.classes_,'Recall':Recall,'Precision':Precision,'F1':score}\n",
    "\n",
    "eval_df = pd.DataFrame(data)\n",
    "\n",
    "eval_df"
   ]
  },
  {
   "cell_type": "code",
   "execution_count": null,
   "id": "990ef152",
   "metadata": {
    "scrolled": false
   },
   "outputs": [],
   "source": [
    "import seaborn as sns\n",
    "from sklearn.metrics import plot_confusion_matrix\n",
    "from sklearn.metrics import accuracy_score, confusion_matrix\n",
    "\n",
    "\n",
    "\n",
    "conf_mat = confusion_matrix(y_test, y_pred_test)\n",
    "fig, ax = plt.subplots(figsize=(38,38))\n",
    "\n",
    "sns.heatmap(conf_mat, annot=True, cmap=\"Blues\", fmt='d',\n",
    "            xticklabels=label.classes_, \n",
    "            yticklabels=label.classes_)\n",
    "\n",
    "plt.ylabel('Actual')\n",
    "plt.xlabel('Predicted')\n",
    "plt.title(\"CONFUSION MATRIX \\n\", size=16);"
   ]
  },
  {
   "cell_type": "code",
   "execution_count": null,
   "id": "a3557329",
   "metadata": {},
   "outputs": [],
   "source": []
  },
  {
   "cell_type": "code",
   "execution_count": null,
   "id": "30e585c3",
   "metadata": {},
   "outputs": [],
   "source": []
  },
  {
   "cell_type": "code",
   "execution_count": 30,
   "id": "30df69cb",
   "metadata": {},
   "outputs": [],
   "source": [
    "def cont_to_bin(_2darr):\n",
    "    #make an 2d array\n",
    "    final2d = np.empty(_2darr.shape,dtype = int)\n",
    "    \n",
    "    #iterate over each row\n",
    "    for i in range(0,_2darr.shape[0]):\n",
    "        #find greatest element\n",
    "        row = _2darr[i]\n",
    "        index = row.argmax()\n",
    "        \n",
    "        #make an array\n",
    "        temp = np.zeros( row.size )\n",
    "        temp[index] = 1\n",
    "        final2d[i] = temp\n",
    "        \n",
    "    return final2d\n",
    "\n",
    "# bin_classif = cont_to_bin(ypred_2)\n",
    "# np.apply_along_axis(function, 1, array)\n"
   ]
  },
  {
   "cell_type": "code",
   "execution_count": null,
   "id": "b20a1fdd",
   "metadata": {},
   "outputs": [],
   "source": [
    "def cont_to_bin(_2darr):\n",
    "    #make an 2d array\n",
    "    final2d = np.empty(_2darr.shape,dtype = int)\n",
    "    \n",
    "    #iterate over each row\n",
    "    for i in range(0,_2darr.shape[0]):\n",
    "        #find greatest element\n",
    "        row = _2darr[i]\n",
    "        \n",
    "        for j in range(0,row.shape[0]):\n",
    "            if(j )\n",
    "        \n",
    "        #make an array\n",
    "        temp = np.zeros( row.size )\n",
    "        temp[index] = 1\n",
    "        final2d[i] = temp\n",
    "        \n",
    "    return final2d\n",
    "\n",
    "# bin_classif = cont_to_bin(ypred_2)\n",
    "# np.apply_along_axis(function, 1, array)\n"
   ]
  },
  {
   "cell_type": "code",
   "execution_count": null,
   "id": "70f9e0a3",
   "metadata": {},
   "outputs": [],
   "source": []
  },
  {
   "cell_type": "code",
   "execution_count": null,
   "id": "3507b8ad",
   "metadata": {},
   "outputs": [],
   "source": []
  },
  {
   "cell_type": "code",
   "execution_count": null,
   "id": "bc7456aa",
   "metadata": {},
   "outputs": [],
   "source": []
  },
  {
   "cell_type": "code",
   "execution_count": null,
   "id": "7725ada3",
   "metadata": {},
   "outputs": [],
   "source": []
  },
  {
   "cell_type": "code",
   "execution_count": 29,
   "id": "af07b5c3",
   "metadata": {},
   "outputs": [],
   "source": [
    "import numpy as np\n",
    "from sklearn.utils.class_weight import compute_class_weight\n",
    "from sklearn.preprocessing import MultiLabelBinarizer\n",
    "\n",
    "\n",
    "def generate_class_weights(class_series, multi_class=True, one_hot_encoded=True):\n",
    "    if multi_class:\n",
    "        # If class is one hot encoded, transform to categorical labels to use compute_class_weight   \n",
    "        if one_hot_encoded:\n",
    "            class_series = np.argmax(class_series, axis=1)\n",
    "\n",
    "        # Compute class weights with sklearn method\n",
    "        class_labels = np.unique(class_series)\n",
    "        class_weights = compute_class_weight(class_weight='balanced', classes=class_labels, y=class_series)\n",
    "        return dict(zip(class_labels, class_weights))\n",
    "    else:\n",
    "        # It is neccessary that the multi-label values are one-hot encoded\n",
    "        mlb = None\n",
    "        if not one_hot_encoded:\n",
    "            mlb = MultiLabelBinarizer()\n",
    "            class_series = mlb.fit_transform(class_series)\n",
    "\n",
    "        n_samples = len(class_series)\n",
    "        n_classes = len(class_series[0])\n",
    "\n",
    "        # Count each class frequency\n",
    "        class_count = [0] * n_classes\n",
    "        for classes in class_series:\n",
    "            for index in range(n_classes):\n",
    "                if classes[index] != 0:\n",
    "                    class_count[index] += 1\n",
    "\n",
    "        # Compute class weights using balanced method\n",
    "        class_weights = [n_samples / (n_classes * freq) if freq > 0 else 1 for freq in class_count]\n",
    "        class_labels = range(len(class_weights)) if mlb is None else mlb.classes_\n",
    "        return dict(zip(class_labels, class_weights))"
   ]
  },
  {
   "cell_type": "code",
   "execution_count": null,
   "id": "cee5964e",
   "metadata": {},
   "outputs": [],
   "source": []
  },
  {
   "cell_type": "code",
   "execution_count": null,
   "id": "b8deb4cd",
   "metadata": {},
   "outputs": [],
   "source": []
  }
 ],
 "metadata": {
  "kernelspec": {
   "display_name": "Python 3 (ipykernel)",
   "language": "python",
   "name": "python3"
  },
  "language_info": {
   "codemirror_mode": {
    "name": "ipython",
    "version": 3
   },
   "file_extension": ".py",
   "mimetype": "text/x-python",
   "name": "python",
   "nbconvert_exporter": "python",
   "pygments_lexer": "ipython3",
   "version": "3.9.12"
  }
 },
 "nbformat": 4,
 "nbformat_minor": 5
}
